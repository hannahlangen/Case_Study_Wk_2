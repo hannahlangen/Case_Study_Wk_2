{
 "cells": [
  {
   "cell_type": "code",
   "execution_count": 997,
   "id": "5e26f82d",
   "metadata": {},
   "outputs": [],
   "source": [
    "import numpy as np\n",
    "import pandas as pd\n",
    "import matplotlib.pyplot as plt\n",
    "%matplotlib inline\n",
    "import seaborn as sns\n",
    "from sklearn.preprocessing import StandardScaler\n",
    "from sklearn.preprocessing import QuantileTransformer\n",
    "from sklearn.preprocessing import minmax_scale\n",
    "from sklearn.preprocessing import OneHotEncoder  # better to use dummy from pandas \n",
    "from sklearn.preprocessing import PowerTransformer\n",
    "from scipy.stats import boxcox\n",
    "from scipy import stats\n",
    "from sklearn.linear_model import LinearRegression\n",
    "from sklearn.model_selection import train_test_split\n",
    "import statsmodels.api as sm\n",
    "from scipy.stats import boxcox\n",
    "from sklearn.model_selection import train_test_split\n",
    "from sklearn.metrics import r2_score\n",
    "from sklearn.metrics import mean_squared_error as mse\n",
    "from sklearn.metrics import mean_absolute_error as mae\n",
    "pd.options.display.max_rows = 50"
   ]
  },
  {
   "cell_type": "code",
   "execution_count": 998,
   "id": "54dce78d",
   "metadata": {},
   "outputs": [],
   "source": [
    "#load dataframe and remove \"Unnamed\" , \"Customer\" and \"Number of Open Complaints\" columns\n",
    "\n",
    "cs_df = pd.read_csv('Data copy/Data_Marketing_Customer_Analysis_Round2.csv')\n",
    "cs_df.drop(['Unnamed: 0'],axis=1, inplace=True)\n",
    "cs_df.drop(['Customer'],axis=1, inplace=True)\n",
    "cs_df.drop(['Number of Open Complaints'],axis=1, inplace=True)"
   ]
  },
  {
   "cell_type": "code",
   "execution_count": 999,
   "id": "912a0f42",
   "metadata": {},
   "outputs": [],
   "source": [
    "#replace 0 for \"Income\" column with missing values\n",
    "\n",
    "cs_df[\"Income\"].replace(0, np.nan, inplace=True)"
   ]
  },
  {
   "cell_type": "code",
   "execution_count": 1000,
   "id": "34953d2c",
   "metadata": {},
   "outputs": [],
   "source": [
    "#drop missing values and duplicates from entire dataframe\n",
    "\n",
    "cs_df.dropna(inplace = True)\n",
    "\n",
    "cs_df.drop_duplicates(inplace = True)"
   ]
  },
  {
   "cell_type": "code",
   "execution_count": 1001,
   "id": "44bc7bf0",
   "metadata": {},
   "outputs": [],
   "source": [
    "#remove outliers from \"Monthly Premium Auto\"\n",
    "\n",
    "Q1 = cs_df[\"Monthly Premium Auto\"].quantile(0.25)\n",
    "Q3 = cs_df[\"Monthly Premium Auto\"].quantile(0.75)\n",
    "IQR = Q3 - Q1    #IQR is interquartile range. \n",
    "\n",
    "filter = (cs_df[\"Monthly Premium Auto\"] >= Q1 - 1.5 * IQR) & (cs_df[\"Monthly Premium Auto\"] <= Q3 + 1.5 *IQR)\n",
    "cs_df = cs_df.loc[filter]\n"
   ]
  },
  {
   "cell_type": "code",
   "execution_count": 1002,
   "id": "c5887b41",
   "metadata": {},
   "outputs": [],
   "source": [
    "#remove outliers from \"Customer Lifetime Value\"\n",
    "\n",
    "Q1 = cs_df[\"Customer Lifetime Value\"].quantile(0.25)\n",
    "Q3 = cs_df[\"Customer Lifetime Value\"].quantile(0.75)\n",
    "IQR = Q3 - Q1    #IQR is interquartile range. \n",
    "\n",
    "filter = (cs_df[\"Customer Lifetime Value\"] >= Q1 - 1.5 * IQR) & (cs_df[\"Customer Lifetime Value\"] <= Q3 + 1.5 *IQR)\n",
    "cs_df = cs_df.loc[filter]"
   ]
  },
  {
   "cell_type": "code",
   "execution_count": 1003,
   "id": "e1235bcf",
   "metadata": {},
   "outputs": [
    {
     "data": {
      "text/plain": [
       "2        14947.917300\n",
       "10        5154.764074\n",
       "13        5454.587929\n",
       "16        5326.677654\n",
       "18        2736.352663\n",
       "             ...     \n",
       "10897     9075.768214\n",
       "10902     3579.023825\n",
       "10903     2771.663013\n",
       "10906     5259.444853\n",
       "10908    11971.977650\n",
       "Name: Customer Lifetime Value, Length: 2904, dtype: float64"
      ]
     },
     "execution_count": 1003,
     "metadata": {},
     "output_type": "execute_result"
    }
   ],
   "source": [
    "cs_df[\"Customer Lifetime Value\"]"
   ]
  },
  {
   "cell_type": "markdown",
   "id": "43521888",
   "metadata": {},
   "source": [
    "# Activity 7\n",
    "\n",
    "## Linear Regression\n",
    "\n",
    "- Train-test split.\n",
    "- Standardize the data (after the data split).\n",
    "- Apply linear regression.\n",
    "- Model Interpretation.\n",
    "- Model Validation\n",
    "\n",
    "## Model Evaluation:\n",
    "- MSE.\n",
    "- RMSE.\n",
    "- MAE.\n",
    "\n",
    "\n",
    "1. split x/y\n",
    "2. x: devide categorical/numerical\n",
    "- categorical: encode\n",
    "- x: concatination categorical/numerical\n",
    "- split data x_train/x_test\n",
    "- x_train: devide categorical_x_train/numerical_x_train\n",
    "- x_test: devide categorical_x_test/numerical_x_test\n",
    "- x_train/x_test numericals:\n",
    "- standardize x_train (x_train use fit --> then apply it for x_train and x_test)\n",
    "- quantiletransformer (x_train use fit --> then apply it for x_train and x_test) -->Income, CLV,...\n",
    "- x_train: concatination categorical_x_train:/numerical_x_train\n",
    "- x_test: concatination categorical_x_test/numerical_x_test"
   ]
  },
  {
   "cell_type": "markdown",
   "id": "6dc0256b",
   "metadata": {},
   "source": [
    "## X/Y Split"
   ]
  },
  {
   "cell_type": "code",
   "execution_count": 1004,
   "id": "e18081d3",
   "metadata": {},
   "outputs": [],
   "source": [
    "# X/Y Split target variable: 'Total Claim Amount'\n",
    "\n",
    "X=cs_df.drop('Total Claim Amount', axis=1)\n",
    "y=cs_df['Total Claim Amount']"
   ]
  },
  {
   "cell_type": "markdown",
   "id": "f1d7c80d",
   "metadata": {},
   "source": [
    "## Data Split (train/test split)"
   ]
  },
  {
   "cell_type": "code",
   "execution_count": 1005,
   "id": "6e660da9",
   "metadata": {},
   "outputs": [],
   "source": [
    "#train/test split\n",
    "\n",
    "X_train, X_test, y_train, y_test=train_test_split(X, y, test_size=.30,random_state=123)"
   ]
  },
  {
   "cell_type": "code",
   "execution_count": 1006,
   "id": "f85b34c1",
   "metadata": {},
   "outputs": [],
   "source": [
    "#reset indices for y_train and y_test\n",
    "\n",
    "y_train =y_train.reset_index(drop=True)\n",
    "y_test = y_test.reset_index(drop=True)"
   ]
  },
  {
   "cell_type": "code",
   "execution_count": 1007,
   "id": "2583524b",
   "metadata": {},
   "outputs": [],
   "source": [
    "# split x_train and x_test by numerical and categorical\n",
    "\n",
    "X_train_numerical = X_train._get_numeric_data()\n",
    "\n",
    "X_test_numerical = X_test._get_numeric_data()\n",
    "\n",
    "X_train_categorical = X_train.select_dtypes(\"object\")\n",
    "\n",
    "X_test_categorical = X_test.select_dtypes(\"object\")"
   ]
  },
  {
   "cell_type": "markdown",
   "id": "31440dae",
   "metadata": {},
   "source": [
    "## Encoding categorical features"
   ]
  },
  {
   "cell_type": "code",
   "execution_count": 1008,
   "id": "9719ae3b",
   "metadata": {
    "scrolled": false
   },
   "outputs": [
    {
     "name": "stderr",
     "output_type": "stream",
     "text": [
      "/opt/anaconda3/envs/DA_ENV/lib/python3.9/site-packages/sklearn/utils/deprecation.py:87: FutureWarning: Function get_feature_names is deprecated; get_feature_names is deprecated in 1.0 and will be removed in 1.2. Please use get_feature_names_out instead.\n",
      "  warnings.warn(msg, category=FutureWarning)\n"
     ]
    },
    {
     "data": {
      "text/html": [
       "<div>\n",
       "<style scoped>\n",
       "    .dataframe tbody tr th:only-of-type {\n",
       "        vertical-align: middle;\n",
       "    }\n",
       "\n",
       "    .dataframe tbody tr th {\n",
       "        vertical-align: top;\n",
       "    }\n",
       "\n",
       "    .dataframe thead th {\n",
       "        text-align: right;\n",
       "    }\n",
       "</style>\n",
       "<table border=\"1\" class=\"dataframe\">\n",
       "  <thead>\n",
       "    <tr style=\"text-align: right;\">\n",
       "      <th></th>\n",
       "      <th>State_California_1</th>\n",
       "      <th>State_Nevada_1</th>\n",
       "      <th>State_Oregon_1</th>\n",
       "      <th>State_Washington_1</th>\n",
       "      <th>Response_Yes_1</th>\n",
       "      <th>Coverage_Extended_1</th>\n",
       "      <th>Coverage_Premium_1</th>\n",
       "      <th>Education_College_1</th>\n",
       "      <th>Education_Doctor_1</th>\n",
       "      <th>Education_High School or Below_1</th>\n",
       "      <th>...</th>\n",
       "      <th>Renew Offer Type_Offer3_1</th>\n",
       "      <th>Renew Offer Type_Offer4_1</th>\n",
       "      <th>Sales Channel_Branch_1</th>\n",
       "      <th>Sales Channel_Call Center_1</th>\n",
       "      <th>Sales Channel_Web_1</th>\n",
       "      <th>Vehicle Class_SUV_1</th>\n",
       "      <th>Vehicle Class_Sports Car_1</th>\n",
       "      <th>Vehicle Class_Two-Door Car_1</th>\n",
       "      <th>Vehicle Size_Medsize_1</th>\n",
       "      <th>Vehicle Size_Small_1</th>\n",
       "    </tr>\n",
       "  </thead>\n",
       "  <tbody>\n",
       "    <tr>\n",
       "      <th>0</th>\n",
       "      <td>0.0</td>\n",
       "      <td>0.0</td>\n",
       "      <td>1.0</td>\n",
       "      <td>0.0</td>\n",
       "      <td>1.0</td>\n",
       "      <td>0.0</td>\n",
       "      <td>0.0</td>\n",
       "      <td>1.0</td>\n",
       "      <td>0.0</td>\n",
       "      <td>0.0</td>\n",
       "      <td>...</td>\n",
       "      <td>0.0</td>\n",
       "      <td>0.0</td>\n",
       "      <td>0.0</td>\n",
       "      <td>0.0</td>\n",
       "      <td>0.0</td>\n",
       "      <td>0.0</td>\n",
       "      <td>0.0</td>\n",
       "      <td>0.0</td>\n",
       "      <td>1.0</td>\n",
       "      <td>0.0</td>\n",
       "    </tr>\n",
       "    <tr>\n",
       "      <th>1</th>\n",
       "      <td>0.0</td>\n",
       "      <td>0.0</td>\n",
       "      <td>0.0</td>\n",
       "      <td>0.0</td>\n",
       "      <td>0.0</td>\n",
       "      <td>0.0</td>\n",
       "      <td>0.0</td>\n",
       "      <td>0.0</td>\n",
       "      <td>0.0</td>\n",
       "      <td>1.0</td>\n",
       "      <td>...</td>\n",
       "      <td>0.0</td>\n",
       "      <td>0.0</td>\n",
       "      <td>0.0</td>\n",
       "      <td>0.0</td>\n",
       "      <td>0.0</td>\n",
       "      <td>0.0</td>\n",
       "      <td>0.0</td>\n",
       "      <td>0.0</td>\n",
       "      <td>1.0</td>\n",
       "      <td>0.0</td>\n",
       "    </tr>\n",
       "    <tr>\n",
       "      <th>2</th>\n",
       "      <td>0.0</td>\n",
       "      <td>0.0</td>\n",
       "      <td>0.0</td>\n",
       "      <td>0.0</td>\n",
       "      <td>0.0</td>\n",
       "      <td>1.0</td>\n",
       "      <td>0.0</td>\n",
       "      <td>0.0</td>\n",
       "      <td>0.0</td>\n",
       "      <td>1.0</td>\n",
       "      <td>...</td>\n",
       "      <td>0.0</td>\n",
       "      <td>0.0</td>\n",
       "      <td>0.0</td>\n",
       "      <td>0.0</td>\n",
       "      <td>1.0</td>\n",
       "      <td>0.0</td>\n",
       "      <td>0.0</td>\n",
       "      <td>0.0</td>\n",
       "      <td>1.0</td>\n",
       "      <td>0.0</td>\n",
       "    </tr>\n",
       "    <tr>\n",
       "      <th>3</th>\n",
       "      <td>1.0</td>\n",
       "      <td>0.0</td>\n",
       "      <td>0.0</td>\n",
       "      <td>0.0</td>\n",
       "      <td>0.0</td>\n",
       "      <td>0.0</td>\n",
       "      <td>0.0</td>\n",
       "      <td>1.0</td>\n",
       "      <td>0.0</td>\n",
       "      <td>0.0</td>\n",
       "      <td>...</td>\n",
       "      <td>1.0</td>\n",
       "      <td>0.0</td>\n",
       "      <td>1.0</td>\n",
       "      <td>0.0</td>\n",
       "      <td>0.0</td>\n",
       "      <td>0.0</td>\n",
       "      <td>0.0</td>\n",
       "      <td>1.0</td>\n",
       "      <td>0.0</td>\n",
       "      <td>0.0</td>\n",
       "    </tr>\n",
       "    <tr>\n",
       "      <th>4</th>\n",
       "      <td>0.0</td>\n",
       "      <td>0.0</td>\n",
       "      <td>1.0</td>\n",
       "      <td>0.0</td>\n",
       "      <td>0.0</td>\n",
       "      <td>0.0</td>\n",
       "      <td>0.0</td>\n",
       "      <td>1.0</td>\n",
       "      <td>0.0</td>\n",
       "      <td>0.0</td>\n",
       "      <td>...</td>\n",
       "      <td>0.0</td>\n",
       "      <td>0.0</td>\n",
       "      <td>0.0</td>\n",
       "      <td>0.0</td>\n",
       "      <td>1.0</td>\n",
       "      <td>0.0</td>\n",
       "      <td>0.0</td>\n",
       "      <td>0.0</td>\n",
       "      <td>1.0</td>\n",
       "      <td>0.0</td>\n",
       "    </tr>\n",
       "  </tbody>\n",
       "</table>\n",
       "<p>5 rows × 98 columns</p>\n",
       "</div>"
      ],
      "text/plain": [
       "   State_California_1  State_Nevada_1  State_Oregon_1  State_Washington_1  \\\n",
       "0                 0.0             0.0             1.0                 0.0   \n",
       "1                 0.0             0.0             0.0                 0.0   \n",
       "2                 0.0             0.0             0.0                 0.0   \n",
       "3                 1.0             0.0             0.0                 0.0   \n",
       "4                 0.0             0.0             1.0                 0.0   \n",
       "\n",
       "   Response_Yes_1  Coverage_Extended_1  Coverage_Premium_1  \\\n",
       "0             1.0                  0.0                 0.0   \n",
       "1             0.0                  0.0                 0.0   \n",
       "2             0.0                  1.0                 0.0   \n",
       "3             0.0                  0.0                 0.0   \n",
       "4             0.0                  0.0                 0.0   \n",
       "\n",
       "   Education_College_1  Education_Doctor_1  Education_High School or Below_1  \\\n",
       "0                  1.0                 0.0                               0.0   \n",
       "1                  0.0                 0.0                               1.0   \n",
       "2                  0.0                 0.0                               1.0   \n",
       "3                  1.0                 0.0                               0.0   \n",
       "4                  1.0                 0.0                               0.0   \n",
       "\n",
       "   ...  Renew Offer Type_Offer3_1  Renew Offer Type_Offer4_1  \\\n",
       "0  ...                        0.0                        0.0   \n",
       "1  ...                        0.0                        0.0   \n",
       "2  ...                        0.0                        0.0   \n",
       "3  ...                        1.0                        0.0   \n",
       "4  ...                        0.0                        0.0   \n",
       "\n",
       "   Sales Channel_Branch_1  Sales Channel_Call Center_1  Sales Channel_Web_1  \\\n",
       "0                     0.0                          0.0                  0.0   \n",
       "1                     0.0                          0.0                  0.0   \n",
       "2                     0.0                          0.0                  1.0   \n",
       "3                     1.0                          0.0                  0.0   \n",
       "4                     0.0                          0.0                  1.0   \n",
       "\n",
       "   Vehicle Class_SUV_1  Vehicle Class_Sports Car_1  \\\n",
       "0                  0.0                         0.0   \n",
       "1                  0.0                         0.0   \n",
       "2                  0.0                         0.0   \n",
       "3                  0.0                         0.0   \n",
       "4                  0.0                         0.0   \n",
       "\n",
       "   Vehicle Class_Two-Door Car_1  Vehicle Size_Medsize_1  Vehicle Size_Small_1  \n",
       "0                           0.0                     1.0                   0.0  \n",
       "1                           0.0                     1.0                   0.0  \n",
       "2                           0.0                     1.0                   0.0  \n",
       "3                           1.0                     0.0                   0.0  \n",
       "4                           0.0                     1.0                   0.0  \n",
       "\n",
       "[5 rows x 98 columns]"
      ]
     },
     "execution_count": 1008,
     "metadata": {},
     "output_type": "execute_result"
    }
   ],
   "source": [
    "#encode X_train_categorical\n",
    "\n",
    "X_train_categorical=pd.get_dummies(X_train_categorical, drop_first=True)\n",
    "\n",
    "pd.DataFrame(OneHotEncoder(drop='first').fit_transform(X_train_categorical).toarray(),\n",
    "\n",
    "columns=OneHotEncoder(drop='first').fit(X_train_categorical).get_feature_names(input_features=X_train_categorical.columns)).head()"
   ]
  },
  {
   "cell_type": "code",
   "execution_count": 1009,
   "id": "1db84170",
   "metadata": {},
   "outputs": [
    {
     "name": "stderr",
     "output_type": "stream",
     "text": [
      "/opt/anaconda3/envs/DA_ENV/lib/python3.9/site-packages/sklearn/utils/deprecation.py:87: FutureWarning: Function get_feature_names is deprecated; get_feature_names is deprecated in 1.0 and will be removed in 1.2. Please use get_feature_names_out instead.\n",
      "  warnings.warn(msg, category=FutureWarning)\n"
     ]
    },
    {
     "data": {
      "text/html": [
       "<div>\n",
       "<style scoped>\n",
       "    .dataframe tbody tr th:only-of-type {\n",
       "        vertical-align: middle;\n",
       "    }\n",
       "\n",
       "    .dataframe tbody tr th {\n",
       "        vertical-align: top;\n",
       "    }\n",
       "\n",
       "    .dataframe thead th {\n",
       "        text-align: right;\n",
       "    }\n",
       "</style>\n",
       "<table border=\"1\" class=\"dataframe\">\n",
       "  <thead>\n",
       "    <tr style=\"text-align: right;\">\n",
       "      <th></th>\n",
       "      <th>State_California_1</th>\n",
       "      <th>State_Nevada_1</th>\n",
       "      <th>State_Oregon_1</th>\n",
       "      <th>State_Washington_1</th>\n",
       "      <th>Response_Yes_1</th>\n",
       "      <th>Coverage_Extended_1</th>\n",
       "      <th>Coverage_Premium_1</th>\n",
       "      <th>Education_College_1</th>\n",
       "      <th>Education_Doctor_1</th>\n",
       "      <th>Education_High School or Below_1</th>\n",
       "      <th>...</th>\n",
       "      <th>Renew Offer Type_Offer3_1</th>\n",
       "      <th>Renew Offer Type_Offer4_1</th>\n",
       "      <th>Sales Channel_Branch_1</th>\n",
       "      <th>Sales Channel_Call Center_1</th>\n",
       "      <th>Sales Channel_Web_1</th>\n",
       "      <th>Vehicle Class_SUV_1</th>\n",
       "      <th>Vehicle Class_Sports Car_1</th>\n",
       "      <th>Vehicle Class_Two-Door Car_1</th>\n",
       "      <th>Vehicle Size_Medsize_1</th>\n",
       "      <th>Vehicle Size_Small_1</th>\n",
       "    </tr>\n",
       "  </thead>\n",
       "  <tbody>\n",
       "    <tr>\n",
       "      <th>0</th>\n",
       "      <td>1.0</td>\n",
       "      <td>0.0</td>\n",
       "      <td>0.0</td>\n",
       "      <td>0.0</td>\n",
       "      <td>0.0</td>\n",
       "      <td>0.0</td>\n",
       "      <td>0.0</td>\n",
       "      <td>1.0</td>\n",
       "      <td>0.0</td>\n",
       "      <td>0.0</td>\n",
       "      <td>...</td>\n",
       "      <td>0.0</td>\n",
       "      <td>0.0</td>\n",
       "      <td>0.0</td>\n",
       "      <td>0.0</td>\n",
       "      <td>0.0</td>\n",
       "      <td>1.0</td>\n",
       "      <td>0.0</td>\n",
       "      <td>0.0</td>\n",
       "      <td>1.0</td>\n",
       "      <td>0.0</td>\n",
       "    </tr>\n",
       "    <tr>\n",
       "      <th>1</th>\n",
       "      <td>0.0</td>\n",
       "      <td>0.0</td>\n",
       "      <td>0.0</td>\n",
       "      <td>1.0</td>\n",
       "      <td>0.0</td>\n",
       "      <td>0.0</td>\n",
       "      <td>0.0</td>\n",
       "      <td>1.0</td>\n",
       "      <td>0.0</td>\n",
       "      <td>0.0</td>\n",
       "      <td>...</td>\n",
       "      <td>1.0</td>\n",
       "      <td>0.0</td>\n",
       "      <td>0.0</td>\n",
       "      <td>0.0</td>\n",
       "      <td>1.0</td>\n",
       "      <td>1.0</td>\n",
       "      <td>0.0</td>\n",
       "      <td>0.0</td>\n",
       "      <td>0.0</td>\n",
       "      <td>1.0</td>\n",
       "    </tr>\n",
       "    <tr>\n",
       "      <th>2</th>\n",
       "      <td>0.0</td>\n",
       "      <td>0.0</td>\n",
       "      <td>0.0</td>\n",
       "      <td>0.0</td>\n",
       "      <td>1.0</td>\n",
       "      <td>0.0</td>\n",
       "      <td>0.0</td>\n",
       "      <td>1.0</td>\n",
       "      <td>0.0</td>\n",
       "      <td>0.0</td>\n",
       "      <td>...</td>\n",
       "      <td>0.0</td>\n",
       "      <td>0.0</td>\n",
       "      <td>0.0</td>\n",
       "      <td>0.0</td>\n",
       "      <td>0.0</td>\n",
       "      <td>0.0</td>\n",
       "      <td>0.0</td>\n",
       "      <td>1.0</td>\n",
       "      <td>1.0</td>\n",
       "      <td>0.0</td>\n",
       "    </tr>\n",
       "    <tr>\n",
       "      <th>3</th>\n",
       "      <td>1.0</td>\n",
       "      <td>0.0</td>\n",
       "      <td>0.0</td>\n",
       "      <td>0.0</td>\n",
       "      <td>1.0</td>\n",
       "      <td>1.0</td>\n",
       "      <td>0.0</td>\n",
       "      <td>0.0</td>\n",
       "      <td>1.0</td>\n",
       "      <td>0.0</td>\n",
       "      <td>...</td>\n",
       "      <td>0.0</td>\n",
       "      <td>0.0</td>\n",
       "      <td>0.0</td>\n",
       "      <td>0.0</td>\n",
       "      <td>0.0</td>\n",
       "      <td>0.0</td>\n",
       "      <td>1.0</td>\n",
       "      <td>0.0</td>\n",
       "      <td>1.0</td>\n",
       "      <td>0.0</td>\n",
       "    </tr>\n",
       "    <tr>\n",
       "      <th>4</th>\n",
       "      <td>0.0</td>\n",
       "      <td>0.0</td>\n",
       "      <td>1.0</td>\n",
       "      <td>0.0</td>\n",
       "      <td>0.0</td>\n",
       "      <td>0.0</td>\n",
       "      <td>0.0</td>\n",
       "      <td>0.0</td>\n",
       "      <td>0.0</td>\n",
       "      <td>0.0</td>\n",
       "      <td>...</td>\n",
       "      <td>1.0</td>\n",
       "      <td>0.0</td>\n",
       "      <td>0.0</td>\n",
       "      <td>0.0</td>\n",
       "      <td>1.0</td>\n",
       "      <td>0.0</td>\n",
       "      <td>0.0</td>\n",
       "      <td>0.0</td>\n",
       "      <td>1.0</td>\n",
       "      <td>0.0</td>\n",
       "    </tr>\n",
       "  </tbody>\n",
       "</table>\n",
       "<p>5 rows × 98 columns</p>\n",
       "</div>"
      ],
      "text/plain": [
       "   State_California_1  State_Nevada_1  State_Oregon_1  State_Washington_1  \\\n",
       "0                 1.0             0.0             0.0                 0.0   \n",
       "1                 0.0             0.0             0.0                 1.0   \n",
       "2                 0.0             0.0             0.0                 0.0   \n",
       "3                 1.0             0.0             0.0                 0.0   \n",
       "4                 0.0             0.0             1.0                 0.0   \n",
       "\n",
       "   Response_Yes_1  Coverage_Extended_1  Coverage_Premium_1  \\\n",
       "0             0.0                  0.0                 0.0   \n",
       "1             0.0                  0.0                 0.0   \n",
       "2             1.0                  0.0                 0.0   \n",
       "3             1.0                  1.0                 0.0   \n",
       "4             0.0                  0.0                 0.0   \n",
       "\n",
       "   Education_College_1  Education_Doctor_1  Education_High School or Below_1  \\\n",
       "0                  1.0                 0.0                               0.0   \n",
       "1                  1.0                 0.0                               0.0   \n",
       "2                  1.0                 0.0                               0.0   \n",
       "3                  0.0                 1.0                               0.0   \n",
       "4                  0.0                 0.0                               0.0   \n",
       "\n",
       "   ...  Renew Offer Type_Offer3_1  Renew Offer Type_Offer4_1  \\\n",
       "0  ...                        0.0                        0.0   \n",
       "1  ...                        1.0                        0.0   \n",
       "2  ...                        0.0                        0.0   \n",
       "3  ...                        0.0                        0.0   \n",
       "4  ...                        1.0                        0.0   \n",
       "\n",
       "   Sales Channel_Branch_1  Sales Channel_Call Center_1  Sales Channel_Web_1  \\\n",
       "0                     0.0                          0.0                  0.0   \n",
       "1                     0.0                          0.0                  1.0   \n",
       "2                     0.0                          0.0                  0.0   \n",
       "3                     0.0                          0.0                  0.0   \n",
       "4                     0.0                          0.0                  1.0   \n",
       "\n",
       "   Vehicle Class_SUV_1  Vehicle Class_Sports Car_1  \\\n",
       "0                  1.0                         0.0   \n",
       "1                  1.0                         0.0   \n",
       "2                  0.0                         0.0   \n",
       "3                  0.0                         1.0   \n",
       "4                  0.0                         0.0   \n",
       "\n",
       "   Vehicle Class_Two-Door Car_1  Vehicle Size_Medsize_1  Vehicle Size_Small_1  \n",
       "0                           0.0                     1.0                   0.0  \n",
       "1                           0.0                     0.0                   1.0  \n",
       "2                           1.0                     1.0                   0.0  \n",
       "3                           0.0                     1.0                   0.0  \n",
       "4                           0.0                     1.0                   0.0  \n",
       "\n",
       "[5 rows x 98 columns]"
      ]
     },
     "execution_count": 1009,
     "metadata": {},
     "output_type": "execute_result"
    }
   ],
   "source": [
    "#encode X_test_categorical\n",
    "\n",
    "X_test_categorical=pd.get_dummies(X_test_categorical, drop_first=True)\n",
    "\n",
    "pd.DataFrame(OneHotEncoder(drop='first').fit_transform(X_test_categorical).toarray(),\n",
    "\n",
    "columns=OneHotEncoder(drop='first').fit(X_test_categorical).get_feature_names(input_features=X_test_categorical.columns)).head()"
   ]
  },
  {
   "cell_type": "code",
   "execution_count": 1010,
   "id": "c3d8bb80",
   "metadata": {},
   "outputs": [],
   "source": [
    "#reset indices for x_train_categorical and x_test_categorical\n",
    "\n",
    "X_train_categorical = X_train_categorical.reset_index(drop=True)\n",
    "\n",
    "X_test_categorical = X_test_categorical.reset_index(drop=True)"
   ]
  },
  {
   "cell_type": "markdown",
   "id": "29c470ec",
   "metadata": {},
   "source": [
    "## Standardize x_train and x_test"
   ]
  },
  {
   "cell_type": "code",
   "execution_count": 1011,
   "id": "4c7633aa",
   "metadata": {},
   "outputs": [],
   "source": [
    "#standardize x_train_numerical\n",
    "\n",
    "std_scaler=StandardScaler().fit(X_train_numerical)   # finding the parameters ( mean, variance from the training set )\n",
    "\n",
    "X_train_scaled=std_scaler.transform(X_train_numerical)"
   ]
  },
  {
   "cell_type": "code",
   "execution_count": 1012,
   "id": "ea45406f",
   "metadata": {},
   "outputs": [],
   "source": [
    "#standardize x_test_numerical\n",
    "\n",
    "std_scaler=StandardScaler().fit(X_test_numerical)\n",
    "\n",
    "X_test_scaled=std_scaler.transform(X_test_numerical)"
   ]
  },
  {
   "cell_type": "code",
   "execution_count": 1013,
   "id": "3537abc2",
   "metadata": {},
   "outputs": [
    {
     "name": "stdout",
     "output_type": "stream",
     "text": [
      "[[-1.17008652e+00 -5.23604631e-01 -7.67188740e-01 -1.97554285e-01\n",
      "  -1.14285719e+00 -8.40278109e-01]\n",
      " [-3.77471744e-01  1.19053192e+00 -9.93205430e-01  1.88136962e+00\n",
      "   5.78681784e-01  1.20358725e+00]\n",
      " [ 2.24713938e-01  1.42111951e+00 -4.39353310e-02 -9.89525298e-01\n",
      "   6.13815233e-01  3.86041104e-01]\n",
      " ...\n",
      " [ 7.71524135e-01 -9.23035981e-01  1.04094478e+00 -1.97554285e-01\n",
      "  -1.21312409e+00  2.02113339e+00]\n",
      " [ 9.48071192e-01  7.99708288e-01  1.26696147e+00  4.38468203e-04\n",
      "  -1.94254081e-01 -2.27319670e-02]\n",
      " [ 4.33941245e-01  1.89442001e+00  4.08098049e-01 -2.96550662e-01\n",
      "  -1.07259029e+00  1.20358725e+00]]\n",
      "--------\n",
      "[[ 0.844563   -1.6796957   1.23668683  1.81068693  1.03124126 -0.00903325]\n",
      " [ 0.68263251  1.54984834  0.69692913  0.41561807  1.46925508 -0.00903325]\n",
      " [-1.09600704 -0.0537981  -0.74242476 -1.17874634 -0.57480942 -0.79673269]\n",
      " ...\n",
      " [-1.15844574 -0.18422033 -0.9673238  -0.18226858  0.41072168 -0.79673269]\n",
      " [-0.13040315 -1.08981375 -0.69744495 -0.18226858 -1.01282325  1.96021535]\n",
      " [-0.37254119  0.99801135 -1.01230361 -0.97945079  0.73923204  2.35406507]]\n"
     ]
    }
   ],
   "source": [
    "print(X_train_scaled)\n",
    "print(\"--------\")\n",
    "print(X_test_scaled)"
   ]
  },
  {
   "cell_type": "code",
   "execution_count": 1014,
   "id": "c039a86e",
   "metadata": {},
   "outputs": [],
   "source": [
    "#change X_train_scaled and X_test_scaled to dataframes\n",
    "\n",
    "X_train_scaled = pd.DataFrame(X_train_scaled, columns= X_train_numerical.columns)\n",
    "X_test_scaled = pd.DataFrame(X_test_scaled, columns= X_test_numerical.columns)"
   ]
  },
  {
   "cell_type": "code",
   "execution_count": 1015,
   "id": "f98f586d",
   "metadata": {},
   "outputs": [],
   "source": [
    "#reset indices for x_train_scaled and x_test_scaled\n",
    "\n",
    "X_train_scaled = X_train_scaled.reset_index(drop=True)\n",
    "X_test_scaled = X_test_scaled.reset_index(drop=True)"
   ]
  },
  {
   "cell_type": "markdown",
   "id": "a9eb70ed",
   "metadata": {},
   "source": [
    "## Data Transformation"
   ]
  },
  {
   "cell_type": "code",
   "execution_count": 1016,
   "id": "2b0a9d26",
   "metadata": {},
   "outputs": [],
   "source": [
    "#use Quantile Transformer on \"Income\",\"Months Since Policy Inception\" and \"Customer Lifetime Value\"\n",
    "\n",
    "qt = QuantileTransformer(output_distribution=\"normal\").fit(X_train_scaled[\"Income\"].to_numpy().reshape(-1,1))\n",
    "X_train_scaled[\"Income\"] = qt.transform(X_train_scaled[\"Income\"].to_numpy().reshape(-1,1))\n",
    "X_test_scaled[\"Income\"] = qt.transform(X_test_scaled[\"Income\"].to_numpy().reshape(-1,1))\n",
    "\n",
    "qt = QuantileTransformer(output_distribution=\"normal\").fit(X_train_scaled[\"Months Since Policy Inception\"].to_numpy().reshape(-1,1))\n",
    "X_train_scaled[\"Months Since Policy Inception\"] = qt.transform(X_train_scaled[\"Months Since Policy Inception\"].to_numpy().reshape(-1,1))\n",
    "X_test_scaled[\"Months Since Policy Inception\"] = qt.transform(X_test_scaled[\"Months Since Policy Inception\"].to_numpy().reshape(-1,1))\n",
    "\n",
    "qt = QuantileTransformer(output_distribution=\"normal\").fit(X_train_scaled[\"Customer Lifetime Value\"].to_numpy().reshape(-1,1))\n",
    "X_train_scaled[\"Customer Lifetime Value\"] = qt.transform(X_train_scaled[\"Customer Lifetime Value\"].to_numpy().reshape(-1,1))\n",
    "X_test_scaled[\"Customer Lifetime Value\"] = qt.transform(X_test_scaled[\"Customer Lifetime Value\"].to_numpy().reshape(-1,1))"
   ]
  },
  {
   "cell_type": "markdown",
   "id": "685265ae",
   "metadata": {},
   "source": [
    "## Concatenation"
   ]
  },
  {
   "cell_type": "code",
   "execution_count": 1017,
   "id": "69ba19a5",
   "metadata": {},
   "outputs": [],
   "source": [
    "#concatenate X_train_scaled and X_train_categorical and X_test_scaled and X_test_categorical\n",
    "\n",
    "X_train_con=pd.concat([X_train_scaled,X_train_categorical],axis=1)\n",
    "\n",
    "X_test_con=pd.concat([X_test_scaled,X_test_categorical],axis=1)"
   ]
  },
  {
   "cell_type": "markdown",
   "id": "5c97897a",
   "metadata": {},
   "source": [
    "# Apply Linear Regression"
   ]
  },
  {
   "cell_type": "code",
   "execution_count": 1018,
   "id": "31de1f74",
   "metadata": {},
   "outputs": [
    {
     "data": {
      "text/plain": [
       "Index(['State', 'Customer Lifetime Value', 'Response', 'Coverage', 'Education',\n",
       "       'Effective To Date', 'EmploymentStatus', 'Gender', 'Income',\n",
       "       'Location Code', 'Marital Status', 'Monthly Premium Auto',\n",
       "       'Months Since Last Claim', 'Months Since Policy Inception',\n",
       "       'Number of Policies', 'Policy Type', 'Policy', 'Renew Offer Type',\n",
       "       'Sales Channel', 'Vehicle Class', 'Vehicle Size', 'Vehicle Type'],\n",
       "      dtype='object')"
      ]
     },
     "execution_count": 1018,
     "metadata": {},
     "output_type": "execute_result"
    }
   ],
   "source": [
    "X.columns"
   ]
  },
  {
   "cell_type": "markdown",
   "id": "9a68bd45",
   "metadata": {},
   "source": [
    "## Modeling using Statsmodels"
   ]
  },
  {
   "cell_type": "code",
   "execution_count": 1019,
   "id": "cda031f9",
   "metadata": {},
   "outputs": [
    {
     "name": "stdout",
     "output_type": "stream",
     "text": [
      "                            OLS Regression Results                            \n",
      "==============================================================================\n",
      "Dep. Variable:     Total Claim Amount   R-squared:                       0.790\n",
      "Model:                            OLS   Adj. R-squared:                  0.779\n",
      "Method:                 Least Squares   F-statistic:                     71.08\n",
      "Date:                Wed, 02 Feb 2022   Prob (F-statistic):               0.00\n",
      "Time:                        17:48:22   Log-Likelihood:                -12072.\n",
      "No. Observations:                2032   AIC:                         2.435e+04\n",
      "Df Residuals:                    1929   BIC:                         2.493e+04\n",
      "Df Model:                         102                                         \n",
      "Covariance Type:            nonrobust                                         \n",
      "==================================================================================================\n",
      "                                     coef    std err          t      P>|t|      [0.025      0.975]\n",
      "--------------------------------------------------------------------------------------------------\n",
      "const                            127.5984     26.766      4.767      0.000      75.104     180.093\n",
      "Customer Lifetime Value            6.6448      2.561      2.594      0.010       1.622      11.668\n",
      "Income                            -8.1435      2.785     -2.924      0.003     -13.605      -2.682\n",
      "Monthly Premium Auto              98.3227      9.043     10.873      0.000      80.587     116.058\n",
      "Months Since Last Claim            0.2350      2.168      0.108      0.914      -4.018       4.488\n",
      "Months Since Policy Inception     -2.8161      1.749     -1.610      0.108      -6.247       0.614\n",
      "Number of Policies                -2.5535      2.348     -1.088      0.277      -7.158       2.051\n",
      "State_California                  -6.0005      6.175     -0.972      0.331     -18.111       6.110\n",
      "State_Nevada                      -9.6579      8.341     -1.158      0.247     -26.016       6.700\n",
      "State_Oregon                      -6.7935      6.367     -1.067      0.286     -19.280       5.693\n",
      "State_Washington                  -3.3742      8.811     -0.383      0.702     -20.654      13.906\n",
      "Response_Yes                      -7.1303      6.916     -1.031      0.303     -20.694       6.434\n",
      "Coverage_Extended                -12.0180      9.586     -1.254      0.210     -30.818       6.782\n",
      "Coverage_Premium                 -13.4532     19.436     -0.692      0.489     -51.570      24.664\n",
      "Education_College                  0.9053      5.578      0.162      0.871     -10.035      11.845\n",
      "Education_Doctor                   5.9241     11.051      0.536      0.592     -15.750      27.598\n",
      "Education_High School or Below     0.0679      5.842      0.012      0.991     -11.390      11.526\n",
      "Education_Master                  -8.0062      8.020     -0.998      0.318     -23.736       7.723\n",
      "Effective To Date_1/10/11        -24.4581     23.028     -1.062      0.288     -69.620      20.704\n",
      "Effective To Date_1/11/11         -1.7480     24.373     -0.072      0.943     -49.548      46.052\n",
      "Effective To Date_1/12/11        -26.3625     24.820     -1.062      0.288     -75.039      22.314\n",
      "Effective To Date_1/13/11        -28.7776     23.367     -1.232      0.218     -74.605      17.050\n",
      "Effective To Date_1/14/11        -14.4086     24.962     -0.577      0.564     -63.365      34.548\n",
      "Effective To Date_1/15/11        -18.7359     24.520     -0.764      0.445     -66.825      29.353\n",
      "Effective To Date_1/16/11         -8.4455     24.351     -0.347      0.729     -56.202      39.311\n",
      "Effective To Date_1/17/11        -11.3515     23.773     -0.477      0.633     -57.975      35.272\n",
      "Effective To Date_1/18/11        -25.1172     24.746     -1.015      0.310     -73.648      23.414\n",
      "Effective To Date_1/19/11        -15.9659     23.404     -0.682      0.495     -61.865      29.933\n",
      "Effective To Date_1/2/11          12.0761     23.796      0.507      0.612     -34.592      58.745\n",
      "Effective To Date_1/20/11         -1.8907     23.120     -0.082      0.935     -47.234      43.452\n",
      "Effective To Date_1/21/11         11.6879     24.671      0.474      0.636     -36.697      60.073\n",
      "Effective To Date_1/22/11        -16.1087     25.849     -0.623      0.533     -66.803      34.586\n",
      "Effective To Date_1/23/11         -3.8820     23.159     -0.168      0.867     -49.301      41.537\n",
      "Effective To Date_1/24/11        -11.3506     25.778     -0.440      0.660     -61.906      39.205\n",
      "Effective To Date_1/25/11          3.5431     23.360      0.152      0.879     -42.271      49.357\n",
      "Effective To Date_1/26/11        -18.0681     24.576     -0.735      0.462     -66.266      30.130\n",
      "Effective To Date_1/27/11         16.4077     24.433      0.672      0.502     -31.510      64.325\n",
      "Effective To Date_1/28/11        -13.0438     22.971     -0.568      0.570     -58.095      32.007\n",
      "Effective To Date_1/29/11         13.8861     23.908      0.581      0.561     -33.001      60.773\n",
      "Effective To Date_1/3/11          20.9566     23.283      0.900      0.368     -24.706      66.620\n",
      "Effective To Date_1/30/11        -27.4314     26.763     -1.025      0.306     -79.919      25.056\n",
      "Effective To Date_1/31/11        -11.9675     23.734     -0.504      0.614     -58.515      34.580\n",
      "Effective To Date_1/4/11          15.4915     26.125      0.593      0.553     -35.744      66.727\n",
      "Effective To Date_1/5/11         -10.0695     25.217     -0.399      0.690     -59.526      39.387\n",
      "Effective To Date_1/6/11           6.7097     24.599      0.273      0.785     -41.534      54.953\n",
      "Effective To Date_1/7/11         -17.6785     24.675     -0.716      0.474     -66.070      30.713\n",
      "Effective To Date_1/8/11         -22.6565     24.897     -0.910      0.363     -71.484      26.171\n",
      "Effective To Date_1/9/11         -27.4303     23.394     -1.173      0.241     -73.310      18.449\n",
      "Effective To Date_2/1/11         -32.1357     23.773     -1.352      0.177     -78.759      14.488\n",
      "Effective To Date_2/10/11          8.5292     22.962      0.371      0.710     -36.504      53.563\n",
      "Effective To Date_2/11/11        -22.9974     24.592     -0.935      0.350     -71.227      25.232\n",
      "Effective To Date_2/12/11        -28.3930     24.291     -1.169      0.243     -76.033      19.247\n",
      "Effective To Date_2/13/11        -19.6524     23.862     -0.824      0.410     -66.450      27.146\n",
      "Effective To Date_2/14/11        -26.9389     22.220     -1.212      0.226     -70.517      16.640\n",
      "Effective To Date_2/15/11        -17.3733     24.707     -0.703      0.482     -65.828      31.082\n",
      "Effective To Date_2/16/11        -27.3031     23.911     -1.142      0.254     -74.198      19.592\n",
      "Effective To Date_2/17/11          3.3460     24.038      0.139      0.889     -43.797      50.489\n",
      "Effective To Date_2/18/11        -30.3603     24.047     -1.263      0.207     -77.520      16.800\n",
      "Effective To Date_2/19/11         -2.5877     24.308     -0.106      0.915     -50.261      45.085\n",
      "Effective To Date_2/2/11         -12.1147     24.537     -0.494      0.622     -60.236      36.007\n",
      "Effective To Date_2/20/11         -6.1145     24.309     -0.252      0.801     -53.789      41.560\n",
      "Effective To Date_2/21/11        -13.3736     23.989     -0.557      0.577     -60.421      33.673\n",
      "Effective To Date_2/22/11        -10.5136     24.949     -0.421      0.674     -59.444      38.416\n",
      "Effective To Date_2/23/11        -31.5582     24.965     -1.264      0.206     -80.520      17.403\n",
      "Effective To Date_2/24/11         -5.4335     27.973     -0.194      0.846     -60.295      49.428\n",
      "Effective To Date_2/25/11        -11.8800     24.456     -0.486      0.627     -59.842      36.082\n",
      "Effective To Date_2/26/11         11.6146     23.406      0.496      0.620     -34.288      57.517\n",
      "Effective To Date_2/27/11         10.4898     25.332      0.414      0.679     -39.191      60.171\n",
      "Effective To Date_2/28/11        -15.4387     24.412     -0.632      0.527     -63.315      32.437\n",
      "Effective To Date_2/3/11         -25.8706     22.880     -1.131      0.258     -70.742      19.001\n",
      "Effective To Date_2/4/11         -13.0317     23.981     -0.543      0.587     -60.063      34.000\n",
      "Effective To Date_2/5/11           7.7634     22.957      0.338      0.735     -37.260      52.787\n",
      "Effective To Date_2/6/11         -45.5872     25.611     -1.780      0.075     -95.815       4.641\n",
      "Effective To Date_2/7/11          -0.3333     23.031     -0.014      0.988     -45.501      44.834\n",
      "Effective To Date_2/8/11          14.6250     26.767      0.546      0.585     -37.871      67.121\n",
      "Effective To Date_2/9/11         -23.1132     24.636     -0.938      0.348     -71.429      25.203\n",
      "EmploymentStatus_Employed         -8.5970     10.084     -0.853      0.394     -28.374      11.180\n",
      "EmploymentStatus_Medical Leave    -1.4139     12.204     -0.116      0.908     -25.348      22.521\n",
      "EmploymentStatus_Retired          -7.7506     14.799     -0.524      0.601     -36.773      21.272\n",
      "Gender_M                           4.2423      4.334      0.979      0.328      -4.257      12.741\n",
      "Location Code_Suburban           352.0670      5.692     61.856      0.000     340.904     363.230\n",
      "Location Code_Urban              201.9492      6.195     32.598      0.000     189.799     214.099\n",
      "Marital Status_Married            -4.1983      6.189     -0.678      0.498     -16.336       7.940\n",
      "Marital Status_Single              8.4485      7.602      1.111      0.267      -6.461      23.358\n",
      "Policy Type_Personal Auto         12.2795      8.540      1.438      0.151      -4.469      29.028\n",
      "Policy Type_Special Auto           2.0767     11.593      0.179      0.858     -20.660      24.813\n",
      "Policy_Corporate L2               -7.7519     14.290     -0.542      0.588     -35.777      20.273\n",
      "Policy_Corporate L3                7.2991     12.910      0.565      0.572     -18.020      32.618\n",
      "Policy_Personal L1                12.0529      5.259      2.292      0.022       1.739      22.367\n",
      "Policy_Personal L2                 0.1672      4.684      0.036      0.972      -9.019       9.353\n",
      "Policy_Personal L3                 0.0594      4.190      0.014      0.989      -8.159       8.278\n",
      "Policy_Special L1                  6.0867     18.340      0.332      0.740     -29.881      42.055\n",
      "Policy_Special L2                  6.3522     13.723      0.463      0.643     -20.560      33.265\n",
      "Policy_Special L3                -10.3622     14.271     -0.726      0.468     -38.350      17.626\n",
      "Renew Offer Type_Offer2           12.3137      5.496      2.241      0.025       1.536      23.092\n",
      "Renew Offer Type_Offer3            8.0721      6.485      1.245      0.213      -4.647      20.791\n",
      "Renew Offer Type_Offer4            4.0066      7.319      0.547      0.584     -10.347      18.360\n",
      "Sales Channel_Branch               8.2960      5.394      1.538      0.124      -2.282      18.874\n",
      "Sales Channel_Call Center          8.0354      6.060      1.326      0.185      -3.850      19.921\n",
      "Sales Channel_Web                  0.3364      6.747      0.050      0.960     -12.895      13.568\n",
      "Vehicle Class_SUV                -23.9866     18.308     -1.310      0.190     -59.892      11.919\n",
      "Vehicle Class_Sports Car         -43.9700     20.349     -2.161      0.031     -83.878      -4.062\n",
      "Vehicle Class_Two-Door Car        -4.8835      5.387     -0.907      0.365     -15.448       5.681\n",
      "Vehicle Size_Medsize               4.1275      7.001      0.590      0.556      -9.602      17.857\n",
      "Vehicle Size_Small                 9.2253      8.324      1.108      0.268      -7.099      25.549\n",
      "==============================================================================\n",
      "Omnibus:                      749.226   Durbin-Watson:                   1.964\n",
      "Prob(Omnibus):                  0.000   Jarque-Bera (JB):             4296.549\n",
      "Skew:                           1.631   Prob(JB):                         0.00\n",
      "Kurtosis:                       9.333   Cond. No.                     3.66e+16\n",
      "==============================================================================\n",
      "\n",
      "Notes:\n",
      "[1] Standard Errors assume that the covariance matrix of the errors is correctly specified.\n",
      "[2] The smallest eigenvalue is 7.75e-30. This might indicate that there are\n",
      "strong multicollinearity problems or that the design matrix is singular.\n"
     ]
    }
   ],
   "source": [
    "X_train_const_scaled = sm.add_constant(X_train_con) # adding a constant\n",
    "\n",
    "model = sm.OLS(y_train, X_train_const_scaled).fit()\n",
    "predictions_train = model.predict(X_train_const_scaled) \n",
    "\n",
    "X_test_const_scaled = sm.add_constant(X_test_con) # adding a constant\n",
    "\n",
    "predictions_test = model.predict(X_test_const_scaled) \n",
    "\n",
    "print_model = model.summary()\n",
    "print(print_model)"
   ]
  },
  {
   "cell_type": "code",
   "execution_count": 1020,
   "id": "062bfeb6",
   "metadata": {},
   "outputs": [
    {
     "data": {
      "text/plain": [
       "0      616.134203\n",
       "1      549.143730\n",
       "2       61.384053\n",
       "3      650.878191\n",
       "4      217.833203\n",
       "          ...    \n",
       "867    369.678344\n",
       "868    515.352385\n",
       "869    369.053644\n",
       "870    388.933741\n",
       "871    353.620022\n",
       "Length: 872, dtype: float64"
      ]
     },
     "execution_count": 1020,
     "metadata": {},
     "output_type": "execute_result"
    }
   ],
   "source": [
    "predictions_test"
   ]
  },
  {
   "cell_type": "code",
   "execution_count": 1021,
   "id": "b8eeed9e",
   "metadata": {},
   "outputs": [
    {
     "name": "stdout",
     "output_type": "stream",
     "text": [
      "0.77873502163938\n"
     ]
    }
   ],
   "source": [
    "#display adjusted R-squared\n",
    "\n",
    "print(model.rsquared_adj)"
   ]
  },
  {
   "cell_type": "markdown",
   "id": "547eae95",
   "metadata": {},
   "source": [
    "## Modeling using Scikit Learn\n",
    "### Model fitting"
   ]
  },
  {
   "cell_type": "code",
   "execution_count": 1022,
   "id": "7587f13d",
   "metadata": {},
   "outputs": [
    {
     "data": {
      "text/plain": [
       "LinearRegression()"
      ]
     },
     "execution_count": 1022,
     "metadata": {},
     "output_type": "execute_result"
    }
   ],
   "source": [
    "model=LinearRegression()    # model\n",
    "model.fit(X_train_con, y_train)   # model train"
   ]
  },
  {
   "cell_type": "markdown",
   "id": "56d19b6a",
   "metadata": {},
   "source": [
    "### model parameters ( b1,b2,b3,b4)"
   ]
  },
  {
   "cell_type": "code",
   "execution_count": 1023,
   "id": "67f6c989",
   "metadata": {},
   "outputs": [
    {
     "data": {
      "text/plain": [
       "array([ 6.64316535e+00, -8.15038993e+00,  9.83938310e+01,  2.84393157e-01,\n",
       "       -2.84198857e+00, -2.54154433e+00, -5.98999487e+00, -9.70858537e+00,\n",
       "       -6.83248135e+00, -3.39637907e+00, -7.07695849e+00, -1.21855033e+01,\n",
       "       -1.35607539e+01,  9.30502383e-01,  5.81218482e+00,  1.45551758e-02,\n",
       "       -7.96866210e+00, -2.47104998e+01, -1.71565474e+00, -2.73651798e+01,\n",
       "       -2.88694131e+01, -1.44903276e+01, -1.78220752e+01, -8.98776036e+00,\n",
       "       -1.20542249e+01, -2.54889461e+01, -1.62285415e+01,  1.06978788e+01,\n",
       "       -2.29734598e+00,  1.17767146e+01, -1.61452249e+01, -4.32333207e+00,\n",
       "       -1.15693058e+01,  3.42596552e+00, -1.81863570e+01,  1.61075867e+01,\n",
       "       -1.33679691e+01,  1.32651337e+01,  2.05068128e+01, -2.72436788e+01,\n",
       "       -1.21497800e+01,  1.51567104e+01, -1.04613725e+01,  6.40514393e+00,\n",
       "       -1.81334926e+01, -2.24074708e+01, -2.77101816e+01, -3.25502635e+01,\n",
       "        7.94614530e+00, -2.36519401e+01, -2.95536012e+01, -2.06557093e+01,\n",
       "       -2.74442938e+01, -1.78152514e+01, -2.77931631e+01,  2.98577278e+00,\n",
       "       -3.05119463e+01, -3.27356866e+00, -1.20967075e+01, -5.43590158e+00,\n",
       "       -1.38023681e+01, -1.10171673e+01, -3.18657948e+01, -5.88437766e+00,\n",
       "       -1.18774095e+01,  1.13705196e+01,  1.02136208e+01, -1.48073411e+01,\n",
       "       -2.60500126e+01, -1.32621847e+01,  7.51341438e+00, -4.64812993e+01,\n",
       "       -4.72683375e-01,  1.42129147e+01, -2.45380750e+01, -8.36956381e+00,\n",
       "       -1.04686044e+00, -7.50157925e+00,  4.25004240e+00,  3.51967484e+02,\n",
       "        2.01739027e+02, -4.25287536e+00,  8.27293338e+00, -5.83204566e+13,\n",
       "       -1.40860757e+15, -8.10990132e+00,  7.23634204e+00,  5.83204566e+13,\n",
       "        5.83204566e+13,  5.83204566e+13,  1.40860757e+15,  1.40860757e+15,\n",
       "        1.40860757e+15,  1.23030575e+01,  8.12428222e+00,  3.88948025e+00,\n",
       "        8.29286266e+00,  8.01880743e+00,  3.70690156e-01, -2.41501234e+01,\n",
       "       -4.39017660e+01, -4.86937624e+00,  4.15642678e+00,  9.24387060e+00])"
      ]
     },
     "execution_count": 1023,
     "metadata": {},
     "output_type": "execute_result"
    }
   ],
   "source": [
    "model.coef_"
   ]
  },
  {
   "cell_type": "code",
   "execution_count": 1024,
   "id": "75a2272d",
   "metadata": {},
   "outputs": [
    {
     "data": {
      "text/plain": [
       "127.86382243307088"
      ]
     },
     "execution_count": 1024,
     "metadata": {},
     "output_type": "execute_result"
    }
   ],
   "source": [
    "model.intercept_"
   ]
  },
  {
   "cell_type": "code",
   "execution_count": 1025,
   "id": "838e28f1",
   "metadata": {},
   "outputs": [],
   "source": [
    "y_pred=model.predict(X_test_con)   "
   ]
  },
  {
   "cell_type": "code",
   "execution_count": 1026,
   "id": "cad67f42",
   "metadata": {},
   "outputs": [
    {
     "data": {
      "text/plain": [
       "0      552.000000\n",
       "1      565.267705\n",
       "2       18.918935\n",
       "3      657.600000\n",
       "4      264.040157\n",
       "          ...    \n",
       "867    321.600000\n",
       "868    446.400000\n",
       "869    316.800000\n",
       "870    345.600000\n",
       "871    467.803638\n",
       "Name: Total Claim Amount, Length: 872, dtype: float64"
      ]
     },
     "execution_count": 1026,
     "metadata": {},
     "output_type": "execute_result"
    }
   ],
   "source": [
    "y_test"
   ]
  },
  {
   "cell_type": "code",
   "execution_count": 1027,
   "id": "5e5f6f5d",
   "metadata": {},
   "outputs": [
    {
     "data": {
      "text/plain": [
       "array([616.26099221, 549.42910449,  61.67368473, 650.99185321,\n",
       "       218.51522159, 582.04580096, 480.46156618, 481.12336414,\n",
       "       367.54523914, 530.90856177, 124.57074759, 218.81493548,\n",
       "       371.25084921, 209.24759046, 612.9715646 , 219.83462186,\n",
       "       404.98046894, 177.21440336, 453.12191085, 381.99069507,\n",
       "       217.19594118, 545.85473086,   4.38671894, 387.08491936,\n",
       "       391.73197653,  55.3389317 , 460.07481301, 532.77386977,\n",
       "       350.78084659, 387.5029383 , 264.57655008, 376.12109394,\n",
       "        81.57493672, 124.7410369 , 285.05343668, 436.81977962,\n",
       "       418.81640644, 434.17002613, 547.31743166, 418.85115909,\n",
       "       445.84123371, 463.68720796, 526.78385469, 309.0049481 ,\n",
       "        30.15306172, 256.67713746,   3.47781602, 262.81079943,\n",
       "       351.8894744 , 375.9561192 , 101.13671894, 668.96734394,\n",
       "       374.03587422, 565.48616855, 465.6279383 , 380.0769744 ,\n",
       "       510.09825051, 154.58323345, 527.5970834 , 418.38471936,\n",
       "       354.45703144, 369.12223107, 537.23567072, 504.86786343,\n",
       "       227.04035322, 386.00504487, 620.7607508 , 582.03019758,\n",
       "       414.58274922, 361.93180568, 563.62950051, 396.03023186,\n",
       "       522.58274922, 519.78307068, 195.56481728, 602.16224704,\n",
       "       476.83423693,  21.41333887, 379.00307997,  -6.17555617,\n",
       "       211.46369902, 458.20533056, 445.21706803, 406.02180164,\n",
       "       461.54505954,  81.49591439, 261.02343165, 448.06311187,\n",
       "       547.14850392, 426.90517596, 596.09902096, 488.42636219,\n",
       "       404.46784677,  23.42055936, 342.81111208,  17.17572401,\n",
       "       419.0029942 ,  43.30396387, 166.96841571,  74.42085686,\n",
       "        40.00194468, 559.21075205, 417.25679436, 184.36611346,\n",
       "        95.17915462, 463.04634212, 469.18249409, 609.1671816 ,\n",
       "        99.3233067 , 192.88519941, 399.75549421, 489.3701258 ,\n",
       "       227.56597947, 624.75130829, 191.36849579, 417.09835562,\n",
       "       398.80712298, 172.71203483, 424.8076258 , 610.81923846,\n",
       "       526.00551785, 310.81981195, 284.52180164, 423.69131111,\n",
       "       396.70756962, 520.8233067 , 198.30136572, 318.9285369 ,\n",
       "       511.95071546,  -7.50058019, 304.78587422, 368.00649686,\n",
       "       -24.07119731, 408.4750479 , 465.32493672, 264.52673736,\n",
       "       435.14461289, 479.45759816,  38.06118436, 415.6279383 ,\n",
       "       386.96556172, 551.86655897, 237.38175779, 384.7451817 ,\n",
       "       278.55415462, 623.9559396 , 507.52474579, 213.11085651,\n",
       "       237.42955795,  10.06379938, 515.48776146, 362.84217313,\n",
       "       443.76943611, 367.36779937, 400.54350712, 460.87471449,\n",
       "       431.18413493, 408.71297128, 676.48187248, 674.40755829,\n",
       "       546.57692726,  42.44429436, 402.22337422, 520.43541068,\n",
       "        76.01806048, 351.37037591, 272.61386572, 560.16237074,\n",
       "        69.10665338, 362.90705546, 425.01479462, 408.34211414,\n",
       "       198.38822037, 441.09436187, 490.78336818, 230.48899922,\n",
       "       350.21144862, 253.62890644, 503.70986346, 243.44399686,\n",
       "       312.97337422, 571.34703908,  55.34586818, 509.55913212,\n",
       "       405.24566697, 392.43250492, 700.84153121, 542.23486317,\n",
       "       420.34704986, 125.16981575, 213.34695046, 327.46543801,\n",
       "       592.29508318, 236.96687563, -47.79606954, 572.92631962,\n",
       "       137.40552637, 392.53168227, 476.16980491, 465.36399922,\n",
       "        85.89472215, 487.90447401, 328.7664953 , 422.92649922,\n",
       "       420.66304436, 253.70774922, 474.30834113, 217.35048846,\n",
       "       264.81977962, 570.10918955, 278.03742664, 532.32561317,\n",
       "       511.0283516 , 201.09837422,  50.81648789, 553.51189295,\n",
       "       372.28141066, 386.82705096, 401.34362045, 581.83575487,\n",
       "       355.17317072, 572.57422545, 569.52024922, 557.36386572,\n",
       "       529.45042095, 381.05450487, 373.22424421, 643.9873133 ,\n",
       "        10.23549816, 404.87399284, 664.69247599,  32.2722869 ,\n",
       "       341.09926785, 389.21862045, 650.18737045, 507.89050922,\n",
       "       526.27955824, 565.05361346, 532.04417095, 493.07475993,\n",
       "       422.85024686, 526.6045567 , 388.70072525, 474.43477838,\n",
       "        19.15831288, 494.64675553, 207.06457118, 332.5733067 ,\n",
       "       260.56100757, 586.44362074, 296.84273186, 388.84448378,\n",
       "        78.98836289, 119.36587186, 212.81822318, 345.62117539,\n",
       "        23.58583159, 289.34974985, 476.54580096, 398.14286829,\n",
       "       388.38179436,  32.90481323,  35.74842313,  28.76212062,\n",
       "       432.3936192 , 237.41958035, 380.45393046, 268.78555812,\n",
       "        76.00462422, 503.34321712, 668.46574845, 217.00661757,\n",
       "        37.23347886, 354.11331679, 408.05549296, 390.42920684,\n",
       "       524.34341571, 388.48498687, 434.93479595, 396.08617438,\n",
       "       174.82020659, 510.80179409, 236.16298846,  34.55967328,\n",
       "       261.56493548, 584.14904937,  19.75024163, 422.24829943,\n",
       "       198.09134046, 343.141905  , 400.70129197, 410.29149798,\n",
       "       662.68148105, 239.54041071, 242.68739409, 399.87530598,\n",
       "        47.82020659, 596.56080674, 360.66845972, 392.96441697,\n",
       "       234.47337422,  62.86616936, 222.40416429, 396.55680568,\n",
       "       244.9808159 , 419.48888974,  22.93049296,   0.85618672,\n",
       "       -10.68833038, 146.51572612, 478.27691697,  45.50430812,\n",
       "       428.02024922, 591.32309376,  79.10236796, 393.30415462,\n",
       "       276.36328144, 426.41286682, 390.28666275, 127.78742664,\n",
       "       122.02107086, 558.2295008 , 565.35303194, 517.27311051,\n",
       "       475.56712422, 604.70852796, 381.67327541, 256.5381256 ,\n",
       "       294.25561791,  41.6185905 , 556.43792137, 230.52024922,\n",
       "       100.61674316, 256.35555039,   7.27024922,  27.95580301,\n",
       "        49.39920251, 413.69836142, 403.20930164, 239.15493436,\n",
       "       346.22100869, 377.59243436, 197.37963817, 274.3615127 ,\n",
       "       375.16218813,  60.1642272 ,  66.67968165, 402.80300553,\n",
       "       405.89830795, 551.71529099, 383.75679436, 264.39453144,\n",
       "       238.84925955, 392.14414571, 727.64409086, 206.58275343,\n",
       "       352.76522159, 213.64708338, 366.71773186, 125.30337186,\n",
       "       478.4448417 ,  58.17019303, 462.77625492, 514.94210562,\n",
       "       382.41837062, 289.42100488, 487.55078144, 360.59158123,\n",
       "       376.24892596, 261.58521387, 380.75649686, 206.50218563,\n",
       "       250.32015972,  34.82421894, 185.1045567 , 202.31531742,\n",
       "       442.49603776, 245.22554436, 263.46375492, 500.53804436,\n",
       "       392.11718165, 329.77734394, 254.4840031 , 388.83873454,\n",
       "       615.46440336, 437.19179637, 147.30748953, 621.70796472,\n",
       "        30.78071712, 538.86849579, 384.18811187, 481.98619405,\n",
       "       503.75450051,  56.79585686,  44.12847947, 179.74599255,\n",
       "       399.56712422, 509.64712186, 138.34127469, 621.55305755,\n",
       "       347.17147159, 272.56880469, -24.91325704, 395.89901544,\n",
       "       100.03585562, 502.24500492,  54.0225412 , 537.72385845,\n",
       "        47.28023186, 572.02893171, 232.08654937, 269.76460686,\n",
       "       386.98677436, 492.19981301, 435.94399686, 222.00243548,\n",
       "       380.90687868, 366.26876278, 559.38893324, 478.95762551,\n",
       "       425.02587298,  31.29718937, 216.81712422, 443.10217437,\n",
       "       596.43541068, 301.70301909, 500.0151767 , 392.95890794,\n",
       "       601.20132257, 423.92268046, 129.16015644, 509.17739285,\n",
       "       399.29356301, 399.02690336, 492.25928282, 672.57307402,\n",
       "       510.3030551 ,  50.72118548, 561.84554355, 274.47717437,\n",
       "       361.52375187, 464.3311192 , 433.75150046, 103.83648165,\n",
       "       164.42399318, 408.48273914, 288.91779215, 192.56681394,\n",
       "       385.96484394, 524.83425553, 604.62167822,  21.81640644,\n",
       "       430.58674296, 593.19034814, 442.84191697, 437.11555164,\n",
       "       350.84223719,  -3.74122761, 617.53017596, 420.7824154 ,\n",
       "       104.91393295, 245.0222869 , 525.3858067 ,  37.23790463,\n",
       "       358.96744439, 566.4050994 , 399.50694927, 506.88680039,\n",
       "       240.68518171, 498.17017443, 578.24878969, 247.96821712,\n",
       "       416.61328144, 212.47118548, 228.5264317 , 234.16818623,\n",
       "       304.65686187, 601.49830824, 218.96739428, 147.77362817,\n",
       "       526.9033516 ,   1.62446712, 513.18811187, 394.05360166,\n",
       "        65.48315969,  -2.43913586, 485.89453144,  46.67413369,\n",
       "       132.85884212, 587.65678297, 516.07462062, 409.40306172,\n",
       "       179.77967313, 412.44580067, 368.14774922, 602.62241368,\n",
       "       538.94429436, 407.32799545, 558.7451258 , 360.26062992,\n",
       "        64.56929436, 548.1826258 , 662.14810321, 633.03564903,\n",
       "       419.96755507, 201.05086869, 591.70012345, 167.81216571,\n",
       "       202.51333035, 402.1983067 , 605.64174394, 419.32474133,\n",
       "       -11.33136687, 369.27788212, 429.39912674, 380.83486346,\n",
       "       243.37078063,  49.97384088,  52.56631111, 242.14843165,\n",
       "       237.67023914, 223.94592437, 391.92090587,  11.58274922,\n",
       "       568.7529383 , 340.88953916, 620.69861236, 397.44367664,\n",
       "       454.36470252,  43.3467442 , 192.71542822,  72.07772159,\n",
       "        89.85884212, 469.33430164, 481.47384088, 593.80331596,\n",
       "        -9.43850457, 347.92581679, 429.41206443, 288.06118436,\n",
       "       405.85024686,  23.64051909, 477.65850869, 468.08424574,\n",
       "       363.03660872, 679.18880829, 152.30782707, 482.59992664,\n",
       "       216.11067072, 245.42799574, 479.31493548, 442.69056538,\n",
       "       402.88268295, 258.35073212, 440.23831679, 525.36810044,\n",
       "        23.44477988, 124.03893295, 352.53023186, 460.0733067 ,\n",
       "       342.05918801, 429.09043801, 226.97118548, 360.35223843,\n",
       "       451.16248563, 250.89202541, 210.70962186, 157.23599177,\n",
       "       398.16104838, 372.78853095, 539.21362004,  36.69311791,\n",
       "       529.62538937,  24.23509412,  32.37000492, 642.74349579,\n",
       "       302.87531437, 607.14049545,  30.21538493,  47.62117539,\n",
       "        19.35857206, 265.10399798, 503.74128427, 230.72129174,\n",
       "       531.6201258 , 374.46767596, 267.64493312, 187.3623133 ,\n",
       "       337.23910229, 434.60974689, 322.74836414, 478.97411426,\n",
       "       448.36616936, 480.02993436, 528.53222343, 479.84988053,\n",
       "       410.81809784, 566.06790296, 185.07540838, 518.82368162,\n",
       "        49.71184776, 419.95083035, 559.80599579, 428.41085562,\n",
       "       245.80770882, 298.07829631, 232.34146361, 383.76241812,\n",
       "        57.33674296, 501.71492539,  90.17023914, 436.73831679,\n",
       "        91.41304436, 422.45148914, 369.4267891 , 478.11938264,\n",
       "        25.61718165, 113.0535369 , 176.79700977, 425.35085858,\n",
       "       249.08185465, 395.75050561, 232.11616936, 415.8076817 ,\n",
       "       624.39736346, 390.78112045, 400.23118672, 443.59472343,\n",
       "       213.1358067 , 441.64125368, 309.66687992, 418.12743548,\n",
       "       479.4582982 , 381.99440803, 191.22094634, 473.8923427 ,\n",
       "       384.12117539,  87.78815193, 292.17023914, 266.83949949,\n",
       "       220.3650026 , 418.91909211, 456.91085562, 368.93816662,\n",
       "       325.40624415, 217.16405665, 618.65846482, 385.35637345,\n",
       "       230.32092437, 372.98472286, 566.17399318,  33.10603566,\n",
       "        32.46053409, 398.95042095, 437.45381388, 380.81640644,\n",
       "        43.47468813, 380.98986921, 565.65768878, 264.98788071,\n",
       "       424.5083721 , 246.77241936,  22.87181172,  71.16606309,\n",
       "        46.22507007, 233.2607508 , 366.76740288, 616.21574845,\n",
       "       583.81070818, 283.07257119, 445.57962546, 471.31481177,\n",
       "       353.99959659, 577.40306172, 590.95842121, 461.78955067,\n",
       "       461.96791962, 401.38725712, 347.66850993, 362.95642768,\n",
       "       262.23885315, 123.90523186, 372.30149922, 521.10768324,\n",
       "       238.9548427 , 101.14524922, 304.4092442 ,  11.92885712,\n",
       "       447.25330268, 615.08491936, 116.06012863, 389.49111346,\n",
       "       413.19480685, 272.97655665, 405.84273186, 694.80361346,\n",
       "       261.70443329, -21.34294454, 248.49729676, 229.45221692,\n",
       "       346.27483791,   6.83406313, 373.61665462, 386.23836289,\n",
       "       395.70519451, 573.10618672, 613.88745441, 600.96373454,\n",
       "        47.50534107, 615.24729595, 406.63410322, 250.7468041 ,\n",
       "       404.70743312, 391.53727068, 319.72627981, 410.72705067,\n",
       "       323.65668509, 560.88761088, 226.95143324, 416.9248692 ,\n",
       "         6.51460686, 376.38359518, 292.41298846, 171.23798888,\n",
       "       416.25984682, 232.78368548, 113.9561192 , 587.21706803,\n",
       "         3.26404813, 515.0535369 ,  37.78623578, 399.8858067 ,\n",
       "       445.57873687,  92.41736518, 539.15606455, 323.30529937,\n",
       "       107.73046894,  81.44140644, 286.86492812,   7.80166838,\n",
       "       191.42184379,  60.39904937, 497.16486796, 178.12161633,\n",
       "       240.98681048, 391.4317047 , 391.00747821, 518.93500898,\n",
       "       459.99898186, -15.21826183, 478.5691619 , 581.77049256,\n",
       "       122.37181172, 464.16298846, 550.94429436, 451.27523105,\n",
       "       238.75540296, 376.56148186,  40.86243724, 299.8701258 ,\n",
       "       425.91274686, 659.1071822 , 527.70742637, 155.25551785,\n",
       "       240.82160322, 140.60019096, 510.98330096, 385.10616812,\n",
       "       399.94993672, 617.86549574, 215.32643324, 377.81010025,\n",
       "       391.24400818, 537.71487929, 397.20343937, 254.37240785,\n",
       "        31.03472947, 217.84819268, 402.44363053, 639.07171291,\n",
       "       428.56644179, 182.29387345, 528.42637551, 377.58437769,\n",
       "       274.96112817, 436.38117664, 576.2763758 , 438.17248687,\n",
       "       559.58034553, 441.21174296, 347.25061187, 390.50824759,\n",
       "       586.55461694, 345.05902315,  58.1574262 , 437.92250368,\n",
       "       546.90640097, 234.00429131, 520.80305164,  18.79748687,\n",
       "       665.93960439, 252.78833887, 385.91166275, 109.97655665,\n",
       "       609.13179436, 731.19096586, 386.56930534,  45.28676785,\n",
       "       159.05849861, 310.99862846,  50.5654942 , 547.76146613,\n",
       "       464.69980322, 383.73899922, 196.33159343, 440.63615701,\n",
       "       226.38743672, 246.97265644, 123.37368436,  24.08302513,\n",
       "       385.58831251, 206.63300317, 197.99494902, 425.84998563,\n",
       "       193.06908465,  65.8233067 , 548.08293595, 358.88979462,\n",
       "       121.79368672, 293.40234394, 535.4188791 , 271.09211414,\n",
       "        22.93847343, 567.9218627 , 256.47655665, 281.69399686,\n",
       "       419.87949072, 366.07693007, 214.25925016, 465.14493312,\n",
       "       161.41015644, 106.89524054,  65.72536757, 585.98866466,\n",
       "       239.61399922,  47.65087298, 267.48105322, 430.13562992,\n",
       "       415.06929436, 447.04748687, 439.31086414, 617.1981271 ,\n",
       "       464.84972947, 212.23842826, 321.72265644, 359.61398062,\n",
       "       646.23567072, 394.72494968,  43.0637106 , 442.99818735,\n",
       "       378.46602838, 227.72335562, 271.1215656 , 499.42636739,\n",
       "       385.76702541, 233.14939665,  88.63743672, 369.57128593,\n",
       "       515.63240939, 368.17837186, 388.3925437 , 353.79366812])"
      ]
     },
     "execution_count": 1027,
     "metadata": {},
     "output_type": "execute_result"
    }
   ],
   "source": [
    "y_pred"
   ]
  },
  {
   "cell_type": "code",
   "execution_count": 1028,
   "id": "ab89af10",
   "metadata": {},
   "outputs": [],
   "source": [
    "result=pd.DataFrame({\"y_test\":y_test,\"y_pred\":y_pred})"
   ]
  },
  {
   "cell_type": "code",
   "execution_count": 1029,
   "id": "4c0d1d91",
   "metadata": {},
   "outputs": [
    {
     "data": {
      "text/plain": [
       "[<matplotlib.lines.Line2D at 0x7fca2aa836d0>]"
      ]
     },
     "execution_count": 1029,
     "metadata": {},
     "output_type": "execute_result"
    },
    {
     "data": {
      "image/png": "[encoded data removed]",
      "text/plain": [
       "<Figure size 1008x288 with 3 Axes>"
      ]
     },
     "metadata": {
      "needs_background": "light"
     },
     "output_type": "display_data"
    }
   ],
   "source": [
    "# Make a scatter plot y_pred vs y_test\n",
    "# What kind of plot will you get if all the all the predictions are ok? A straight line\n",
    "\n",
    "fig, ax = plt.subplots(1,3,figsize=(14,4))\n",
    "ax[0].plot(y_pred, y_test, 'o')\n",
    "ax[0].set_xlabel(\"y_test\")\n",
    "ax[0].set_ylabel(\"y_pred\")\n",
    "ax[0].set_title(\"Test Set - Predicted vs real\")\n",
    "\n",
    "# Get a histogram of the residuals i.e.: y_test - y_pred  [Homoscedasticity]\n",
    "# Does it resemble a normal distribution?\n",
    "\n",
    "ax[1].hist(y_test - y_pred)\n",
    "ax[1].set_xlabel(\"y_test - y_pred\")\n",
    "ax[1].set_title(\"Test Set Residual histogram\")\n",
    "\n",
    "ax[2].plot(y_pred,y_test - y_pred,\"o\")\n",
    "ax[2].set_xlabel(\"predicted\")\n",
    "ax[2].set_ylabel(\"residuals\")\n",
    "ax[2].set_title(\"Residuals by Predicted\")\n",
    "ax[2].plot(y_pred,np.zeros(len(y_pred)),linestyle='dashed')"
   ]
  },
  {
   "cell_type": "markdown",
   "id": "1d4ae787",
   "metadata": {},
   "source": [
    "### Error Metrics"
   ]
  },
  {
   "cell_type": "code",
   "execution_count": 1030,
   "id": "a2fb8be8",
   "metadata": {},
   "outputs": [
    {
     "name": "stdout",
     "output_type": "stream",
     "text": [
      "9050.117919114602\n",
      "69.9571438435554\n"
     ]
    }
   ],
   "source": [
    "print(mse(y_test,y_pred))\n",
    "print(mae(y_test,y_pred))"
   ]
  },
  {
   "cell_type": "code",
   "execution_count": 1031,
   "id": "4e96cca9",
   "metadata": {},
   "outputs": [
    {
     "data": {
      "text/plain": [
       "0.77799090508519"
      ]
     },
     "execution_count": 1031,
     "metadata": {},
     "output_type": "execute_result"
    }
   ],
   "source": [
    "R2=r2_score(y_test,y_pred)\n",
    "R2"
   ]
  },
  {
   "cell_type": "code",
   "execution_count": 1032,
   "id": "17944eba",
   "metadata": {},
   "outputs": [],
   "source": [
    "R2_test=model.score(X_test_con,y_test)\n",
    "R2_train=model.score(X_train_con,y_train)"
   ]
  },
  {
   "cell_type": "code",
   "execution_count": 1033,
   "id": "934467e7",
   "metadata": {},
   "outputs": [
    {
     "data": {
      "text/plain": [
       "0.77799090508519"
      ]
     },
     "execution_count": 1033,
     "metadata": {},
     "output_type": "execute_result"
    }
   ],
   "source": [
    "model.score(X_test_con,y_test) # R2 = model.score; same result, use different methods"
   ]
  },
  {
   "cell_type": "markdown",
   "id": "480e211f",
   "metadata": {},
   "source": [
    "### getting the number of parameters"
   ]
  },
  {
   "cell_type": "code",
   "execution_count": 1034,
   "id": "7750df57",
   "metadata": {},
   "outputs": [
    {
     "data": {
      "text/plain": [
       "22"
      ]
     },
     "execution_count": 1034,
     "metadata": {},
     "output_type": "execute_result"
    }
   ],
   "source": [
    "X_test.shape[1] #number of parameters (number of rows in the first column?)"
   ]
  },
  {
   "cell_type": "code",
   "execution_count": 1035,
   "id": "02b7a4b7",
   "metadata": {},
   "outputs": [
    {
     "data": {
      "text/plain": [
       "0.7722380192334517"
      ]
     },
     "execution_count": 1035,
     "metadata": {},
     "output_type": "execute_result"
    }
   ],
   "source": [
    "Adj_R2= 1 - (1-R2)*(len(y_test)-1)/(len(y_test)-X_test.shape[1]-1)\n",
    "Adj_R2"
   ]
  },
  {
   "cell_type": "markdown",
   "id": "1588f762",
   "metadata": {},
   "source": [
    "### Feature Importance"
   ]
  },
  {
   "cell_type": "code",
   "execution_count": 1036,
   "id": "f2787507",
   "metadata": {},
   "outputs": [],
   "source": [
    "features_importances = pd.DataFrame(data={\n",
    "    'Attribute': X_train_con.columns,\n",
    "    'Importance': abs(model.coef_)\n",
    "})\n",
    "features_importances = features_importances.sort_values(by='Importance', ascending=False)"
   ]
  },
  {
   "cell_type": "code",
   "execution_count": 1037,
   "id": "51780746",
   "metadata": {},
   "outputs": [
    {
     "data": {
      "text/html": [
       "<div>\n",
       "<style scoped>\n",
       "    .dataframe tbody tr th:only-of-type {\n",
       "        vertical-align: middle;\n",
       "    }\n",
       "\n",
       "    .dataframe tbody tr th {\n",
       "        vertical-align: top;\n",
       "    }\n",
       "\n",
       "    .dataframe thead th {\n",
       "        text-align: right;\n",
       "    }\n",
       "</style>\n",
       "<table border=\"1\" class=\"dataframe\">\n",
       "  <thead>\n",
       "    <tr style=\"text-align: right;\">\n",
       "      <th></th>\n",
       "      <th>Attribute</th>\n",
       "      <th>Importance</th>\n",
       "    </tr>\n",
       "  </thead>\n",
       "  <tbody>\n",
       "    <tr>\n",
       "      <th>90</th>\n",
       "      <td>Policy_Special L1</td>\n",
       "      <td>1.408608e+15</td>\n",
       "    </tr>\n",
       "    <tr>\n",
       "      <th>91</th>\n",
       "      <td>Policy_Special L2</td>\n",
       "      <td>1.408608e+15</td>\n",
       "    </tr>\n",
       "    <tr>\n",
       "      <th>84</th>\n",
       "      <td>Policy Type_Special Auto</td>\n",
       "      <td>1.408608e+15</td>\n",
       "    </tr>\n",
       "    <tr>\n",
       "      <th>92</th>\n",
       "      <td>Policy_Special L3</td>\n",
       "      <td>1.408608e+15</td>\n",
       "    </tr>\n",
       "    <tr>\n",
       "      <th>87</th>\n",
       "      <td>Policy_Personal L1</td>\n",
       "      <td>5.832046e+13</td>\n",
       "    </tr>\n",
       "    <tr>\n",
       "      <th>...</th>\n",
       "      <td>...</td>\n",
       "      <td>...</td>\n",
       "    </tr>\n",
       "    <tr>\n",
       "      <th>13</th>\n",
       "      <td>Education_College</td>\n",
       "      <td>9.305024e-01</td>\n",
       "    </tr>\n",
       "    <tr>\n",
       "      <th>72</th>\n",
       "      <td>Effective To Date_2/7/11</td>\n",
       "      <td>4.726834e-01</td>\n",
       "    </tr>\n",
       "    <tr>\n",
       "      <th>98</th>\n",
       "      <td>Sales Channel_Web</td>\n",
       "      <td>3.706902e-01</td>\n",
       "    </tr>\n",
       "    <tr>\n",
       "      <th>3</th>\n",
       "      <td>Months Since Last Claim</td>\n",
       "      <td>2.843932e-01</td>\n",
       "    </tr>\n",
       "    <tr>\n",
       "      <th>15</th>\n",
       "      <td>Education_High School or Below</td>\n",
       "      <td>1.455518e-02</td>\n",
       "    </tr>\n",
       "  </tbody>\n",
       "</table>\n",
       "<p>104 rows × 2 columns</p>\n",
       "</div>"
      ],
      "text/plain": [
       "                         Attribute    Importance\n",
       "90               Policy_Special L1  1.408608e+15\n",
       "91               Policy_Special L2  1.408608e+15\n",
       "84        Policy Type_Special Auto  1.408608e+15\n",
       "92               Policy_Special L3  1.408608e+15\n",
       "87              Policy_Personal L1  5.832046e+13\n",
       "..                             ...           ...\n",
       "13               Education_College  9.305024e-01\n",
       "72        Effective To Date_2/7/11  4.726834e-01\n",
       "98               Sales Channel_Web  3.706902e-01\n",
       "3          Months Since Last Claim  2.843932e-01\n",
       "15  Education_High School or Below  1.455518e-02\n",
       "\n",
       "[104 rows x 2 columns]"
      ]
     },
     "execution_count": 1037,
     "metadata": {},
     "output_type": "execute_result"
    }
   ],
   "source": [
    "features_importances"
   ]
  },
  {
   "cell_type": "code",
   "execution_count": 1038,
   "id": "ce4f5a6c",
   "metadata": {},
   "outputs": [
    {
     "data": {
      "image/png": "[encoded data removed]",
      "text/plain": [
       "<Figure size 432x288 with 1 Axes>"
      ]
     },
     "metadata": {
      "needs_background": "light"
     },
     "output_type": "display_data"
    }
   ],
   "source": [
    "plt.bar(x=features_importances['Attribute'], height=features_importances['Importance'], color='#087E8B')\n",
    "plt.title('Feature importances obtained from coefficients', size=20)\n",
    "plt.xticks(rotation='vertical')\n",
    "plt.show()"
   ]
  },
  {
   "cell_type": "markdown",
   "id": "65fd4934",
   "metadata": {},
   "source": [
    "### Evaluating predictions"
   ]
  },
  {
   "cell_type": "code",
   "execution_count": 1039,
   "id": "0a3afb27",
   "metadata": {},
   "outputs": [
    {
     "data": {
      "text/plain": [
       "69.95714384355544"
      ]
     },
     "execution_count": 1039,
     "metadata": {},
     "output_type": "execute_result"
    }
   ],
   "source": [
    "# MAE: mean absolute error\n",
    "MAE = np.mean( np.abs( y_test - y_pred ) )\n",
    "MAE"
   ]
  },
  {
   "cell_type": "code",
   "execution_count": 1040,
   "id": "fcbe5602",
   "metadata": {},
   "outputs": [
    {
     "data": {
      "text/plain": [
       "9050.1179191146"
      ]
     },
     "execution_count": 1040,
     "metadata": {},
     "output_type": "execute_result"
    }
   ],
   "source": [
    "# MSE: mean squared error\n",
    "MSE = np.mean( np.power( y_test - y_pred , 2 ) )\n",
    "MSE"
   ]
  },
  {
   "cell_type": "code",
   "execution_count": 1041,
   "id": "c16c8dfe",
   "metadata": {},
   "outputs": [
    {
     "data": {
      "text/plain": [
       "95.13210771929002"
      ]
     },
     "execution_count": 1041,
     "metadata": {},
     "output_type": "execute_result"
    }
   ],
   "source": [
    "# RMSE: root mean squared error\n",
    "RMSE = np.sqrt(MSE)\n",
    "RMSE"
   ]
  },
  {
   "cell_type": "code",
   "execution_count": null,
   "id": "79288f2e",
   "metadata": {},
   "outputs": [],
   "source": []
  }
 ],
 "metadata": {
  "kernelspec": {
   "display_name": "Python 3 (ipykernel)",
   "language": "python",
   "name": "python3"
  },
  "language_info": {
   "codemirror_mode": {
    "name": "ipython",
    "version": 3
   },
   "file_extension": ".py",
   "mimetype": "text/x-python",
   "name": "python",
   "nbconvert_exporter": "python",
   "pygments_lexer": "ipython3",
   "version": "3.9.7"
  },
  "toc": {
   "base_numbering": 1,
   "nav_menu": {},
   "number_sections": true,
   "sideBar": true,
   "skip_h1_title": false,
   "title_cell": "Table of Contents",
   "title_sidebar": "Contents",
   "toc_cell": false,
   "toc_position": {},
   "toc_section_display": true,
   "toc_window_display": false
  }
 },
 "nbformat": 4,
 "nbformat_minor": 5
}
