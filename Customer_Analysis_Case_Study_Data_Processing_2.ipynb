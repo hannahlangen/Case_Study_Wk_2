{
 "cells": [
  {
   "cell_type": "code",
   "execution_count": 325,
   "id": "5e26f82d",
   "metadata": {},
   "outputs": [],
   "source": [
    "import numpy as np\n",
    "import pandas as pd\n",
    "import matplotlib.pyplot as plt\n",
    "%matplotlib inline\n",
    "import seaborn as sns\n",
    "from sklearn.preprocessing import StandardScaler\n",
    "from sklearn.preprocessing import QuantileTransformer\n",
    "from sklearn.preprocessing import minmax_scale\n",
    "from sklearn.preprocessing import OneHotEncoder  ## better to use dummy from pandas \n",
    "from sklearn.preprocessing import PowerTransformer\n",
    "from scipy.stats import boxcox\n",
    "from sklearn.linear_model import LinearRegression\n",
    "from sklearn.model_selection import train_test_split\n",
    "import statsmodels.api as sm\n",
    "from scipy.stats import boxcox\n",
    "from sklearn.model_selection import train_test_split\n",
    "from sklearn.metrics import r2_score\n",
    "from sklearn.metrics import mean_squared_error as mse\n",
    "from sklearn.metrics import mean_absolute_error as mae\n",
    "pd.options.display.max_rows = 50"
   ]
  },
  {
   "cell_type": "code",
   "execution_count": 326,
   "id": "54dce78d",
   "metadata": {},
   "outputs": [],
   "source": [
    "#load dataframe and remove \"Unnamed\" column\n",
    "\n",
    "cs_df = pd.read_csv('Data copy/Data_Marketing_Customer_Analysis_Round2.csv')\n",
    "cs_df.drop(cs_df.filter(regex=\"Unname\"),axis=1, inplace=True)"
   ]
  },
  {
   "cell_type": "code",
   "execution_count": 327,
   "id": "912a0f42",
   "metadata": {},
   "outputs": [],
   "source": [
    "# replace missing values for \"Income\" column with 0\n",
    "\n",
    "cs_df[\"Income\"].replace(0, np.nan, inplace=True)"
   ]
  },
  {
   "cell_type": "code",
   "execution_count": 328,
   "id": "34953d2c",
   "metadata": {},
   "outputs": [],
   "source": [
    "# drop missing values from entire dataframe\n",
    "\n",
    "cs_df.dropna(inplace = True)"
   ]
  },
  {
   "cell_type": "code",
   "execution_count": 331,
   "id": "104400f3",
   "metadata": {},
   "outputs": [
    {
     "data": {
      "text/html": [
       "<div>\n",
       "<style scoped>\n",
       "    .dataframe tbody tr th:only-of-type {\n",
       "        vertical-align: middle;\n",
       "    }\n",
       "\n",
       "    .dataframe tbody tr th {\n",
       "        vertical-align: top;\n",
       "    }\n",
       "\n",
       "    .dataframe thead th {\n",
       "        text-align: right;\n",
       "    }\n",
       "</style>\n",
       "<table border=\"1\" class=\"dataframe\">\n",
       "  <thead>\n",
       "    <tr style=\"text-align: right;\">\n",
       "      <th></th>\n",
       "      <th>Customer</th>\n",
       "      <th>State</th>\n",
       "      <th>Customer Lifetime Value</th>\n",
       "      <th>Response</th>\n",
       "      <th>Coverage</th>\n",
       "      <th>Education</th>\n",
       "      <th>Effective To Date</th>\n",
       "      <th>EmploymentStatus</th>\n",
       "      <th>Gender</th>\n",
       "      <th>Income</th>\n",
       "      <th>...</th>\n",
       "      <th>Months Since Last Claim</th>\n",
       "      <th>Months Since Policy Inception</th>\n",
       "      <th>Policy Type</th>\n",
       "      <th>Policy</th>\n",
       "      <th>Renew Offer Type</th>\n",
       "      <th>Sales Channel</th>\n",
       "      <th>Total Claim Amount</th>\n",
       "      <th>Vehicle Class</th>\n",
       "      <th>Vehicle Size</th>\n",
       "      <th>Vehicle Type</th>\n",
       "    </tr>\n",
       "  </thead>\n",
       "  <tbody>\n",
       "    <tr>\n",
       "      <th>2</th>\n",
       "      <td>LZ68649</td>\n",
       "      <td>Washington</td>\n",
       "      <td>14947.917300</td>\n",
       "      <td>No</td>\n",
       "      <td>Basic</td>\n",
       "      <td>Bachelor</td>\n",
       "      <td>2/10/11</td>\n",
       "      <td>Employed</td>\n",
       "      <td>M</td>\n",
       "      <td>22139.0</td>\n",
       "      <td>...</td>\n",
       "      <td>34.0</td>\n",
       "      <td>31</td>\n",
       "      <td>Personal Auto</td>\n",
       "      <td>Personal L3</td>\n",
       "      <td>Offer3</td>\n",
       "      <td>Call Center</td>\n",
       "      <td>480.000000</td>\n",
       "      <td>SUV</td>\n",
       "      <td>Medsize</td>\n",
       "      <td>A</td>\n",
       "    </tr>\n",
       "    <tr>\n",
       "      <th>3</th>\n",
       "      <td>XL78013</td>\n",
       "      <td>Oregon</td>\n",
       "      <td>22332.439460</td>\n",
       "      <td>Yes</td>\n",
       "      <td>Extended</td>\n",
       "      <td>College</td>\n",
       "      <td>1/11/11</td>\n",
       "      <td>Employed</td>\n",
       "      <td>M</td>\n",
       "      <td>49078.0</td>\n",
       "      <td>...</td>\n",
       "      <td>10.0</td>\n",
       "      <td>3</td>\n",
       "      <td>Corporate Auto</td>\n",
       "      <td>Corporate L3</td>\n",
       "      <td>Offer2</td>\n",
       "      <td>Branch</td>\n",
       "      <td>484.013411</td>\n",
       "      <td>Four-Door Car</td>\n",
       "      <td>Medsize</td>\n",
       "      <td>A</td>\n",
       "    </tr>\n",
       "    <tr>\n",
       "      <th>10</th>\n",
       "      <td>HG93801</td>\n",
       "      <td>Arizona</td>\n",
       "      <td>5154.764074</td>\n",
       "      <td>No</td>\n",
       "      <td>Extended</td>\n",
       "      <td>High School or Below</td>\n",
       "      <td>1/2/11</td>\n",
       "      <td>Employed</td>\n",
       "      <td>M</td>\n",
       "      <td>82730.0</td>\n",
       "      <td>...</td>\n",
       "      <td>13.0</td>\n",
       "      <td>31</td>\n",
       "      <td>Corporate Auto</td>\n",
       "      <td>Corporate L3</td>\n",
       "      <td>Offer2</td>\n",
       "      <td>Branch</td>\n",
       "      <td>442.521087</td>\n",
       "      <td>SUV</td>\n",
       "      <td>Large</td>\n",
       "      <td>A</td>\n",
       "    </tr>\n",
       "    <tr>\n",
       "      <th>13</th>\n",
       "      <td>KR82385</td>\n",
       "      <td>California</td>\n",
       "      <td>5454.587929</td>\n",
       "      <td>No</td>\n",
       "      <td>Basic</td>\n",
       "      <td>Master</td>\n",
       "      <td>1/26/11</td>\n",
       "      <td>Employed</td>\n",
       "      <td>M</td>\n",
       "      <td>66334.0</td>\n",
       "      <td>...</td>\n",
       "      <td>25.0</td>\n",
       "      <td>25</td>\n",
       "      <td>Personal Auto</td>\n",
       "      <td>Personal L3</td>\n",
       "      <td>Offer4</td>\n",
       "      <td>Call Center</td>\n",
       "      <td>331.200000</td>\n",
       "      <td>Two-Door Car</td>\n",
       "      <td>Medsize</td>\n",
       "      <td>A</td>\n",
       "    </tr>\n",
       "    <tr>\n",
       "      <th>16</th>\n",
       "      <td>FH51383</td>\n",
       "      <td>California</td>\n",
       "      <td>5326.677654</td>\n",
       "      <td>No</td>\n",
       "      <td>Basic</td>\n",
       "      <td>High School or Below</td>\n",
       "      <td>2/7/11</td>\n",
       "      <td>Employed</td>\n",
       "      <td>F</td>\n",
       "      <td>76717.0</td>\n",
       "      <td>...</td>\n",
       "      <td>26.0</td>\n",
       "      <td>10</td>\n",
       "      <td>Personal Auto</td>\n",
       "      <td>Personal L3</td>\n",
       "      <td>Offer4</td>\n",
       "      <td>Call Center</td>\n",
       "      <td>300.528579</td>\n",
       "      <td>Two-Door Car</td>\n",
       "      <td>Large</td>\n",
       "      <td>A</td>\n",
       "    </tr>\n",
       "    <tr>\n",
       "      <th>...</th>\n",
       "      <td>...</td>\n",
       "      <td>...</td>\n",
       "      <td>...</td>\n",
       "      <td>...</td>\n",
       "      <td>...</td>\n",
       "      <td>...</td>\n",
       "      <td>...</td>\n",
       "      <td>...</td>\n",
       "      <td>...</td>\n",
       "      <td>...</td>\n",
       "      <td>...</td>\n",
       "      <td>...</td>\n",
       "      <td>...</td>\n",
       "      <td>...</td>\n",
       "      <td>...</td>\n",
       "      <td>...</td>\n",
       "      <td>...</td>\n",
       "      <td>...</td>\n",
       "      <td>...</td>\n",
       "      <td>...</td>\n",
       "      <td>...</td>\n",
       "    </tr>\n",
       "    <tr>\n",
       "      <th>10897</th>\n",
       "      <td>MM70762</td>\n",
       "      <td>Arizona</td>\n",
       "      <td>9075.768214</td>\n",
       "      <td>Yes</td>\n",
       "      <td>Basic</td>\n",
       "      <td>Master</td>\n",
       "      <td>1/26/11</td>\n",
       "      <td>Employed</td>\n",
       "      <td>M</td>\n",
       "      <td>37722.0</td>\n",
       "      <td>...</td>\n",
       "      <td>8.0</td>\n",
       "      <td>23</td>\n",
       "      <td>Personal Auto</td>\n",
       "      <td>Personal L1</td>\n",
       "      <td>Offer1</td>\n",
       "      <td>Agent</td>\n",
       "      <td>158.077504</td>\n",
       "      <td>Sports Car</td>\n",
       "      <td>Medsize</td>\n",
       "      <td>A</td>\n",
       "    </tr>\n",
       "    <tr>\n",
       "      <th>10902</th>\n",
       "      <td>PP30874</td>\n",
       "      <td>California</td>\n",
       "      <td>3579.023825</td>\n",
       "      <td>No</td>\n",
       "      <td>Extended</td>\n",
       "      <td>High School or Below</td>\n",
       "      <td>1/24/11</td>\n",
       "      <td>Employed</td>\n",
       "      <td>F</td>\n",
       "      <td>28304.0</td>\n",
       "      <td>...</td>\n",
       "      <td>10.0</td>\n",
       "      <td>30</td>\n",
       "      <td>Personal Auto</td>\n",
       "      <td>Personal L2</td>\n",
       "      <td>Offer2</td>\n",
       "      <td>Agent</td>\n",
       "      <td>655.200000</td>\n",
       "      <td>Four-Door Car</td>\n",
       "      <td>Medsize</td>\n",
       "      <td>A</td>\n",
       "    </tr>\n",
       "    <tr>\n",
       "      <th>10903</th>\n",
       "      <td>SU71163</td>\n",
       "      <td>Arizona</td>\n",
       "      <td>2771.663013</td>\n",
       "      <td>No</td>\n",
       "      <td>Basic</td>\n",
       "      <td>College</td>\n",
       "      <td>1/7/11</td>\n",
       "      <td>Employed</td>\n",
       "      <td>M</td>\n",
       "      <td>59855.0</td>\n",
       "      <td>...</td>\n",
       "      <td>30.0</td>\n",
       "      <td>82</td>\n",
       "      <td>Personal Auto</td>\n",
       "      <td>Personal L2</td>\n",
       "      <td>Offer2</td>\n",
       "      <td>Branch</td>\n",
       "      <td>355.200000</td>\n",
       "      <td>Two-Door Car</td>\n",
       "      <td>Medsize</td>\n",
       "      <td>A</td>\n",
       "    </tr>\n",
       "    <tr>\n",
       "      <th>10906</th>\n",
       "      <td>KX53892</td>\n",
       "      <td>Oregon</td>\n",
       "      <td>5259.444853</td>\n",
       "      <td>No</td>\n",
       "      <td>Basic</td>\n",
       "      <td>College</td>\n",
       "      <td>1/6/11</td>\n",
       "      <td>Employed</td>\n",
       "      <td>F</td>\n",
       "      <td>61146.0</td>\n",
       "      <td>...</td>\n",
       "      <td>7.0</td>\n",
       "      <td>68</td>\n",
       "      <td>Personal Auto</td>\n",
       "      <td>Personal L3</td>\n",
       "      <td>Offer2</td>\n",
       "      <td>Branch</td>\n",
       "      <td>273.018929</td>\n",
       "      <td>Four-Door Car</td>\n",
       "      <td>Medsize</td>\n",
       "      <td>A</td>\n",
       "    </tr>\n",
       "    <tr>\n",
       "      <th>10908</th>\n",
       "      <td>WA60547</td>\n",
       "      <td>California</td>\n",
       "      <td>11971.977650</td>\n",
       "      <td>No</td>\n",
       "      <td>Premium</td>\n",
       "      <td>College</td>\n",
       "      <td>2/13/11</td>\n",
       "      <td>Employed</td>\n",
       "      <td>F</td>\n",
       "      <td>64195.0</td>\n",
       "      <td>...</td>\n",
       "      <td>0.0</td>\n",
       "      <td>27</td>\n",
       "      <td>Personal Auto</td>\n",
       "      <td>Personal L1</td>\n",
       "      <td>Offer1</td>\n",
       "      <td>Branch</td>\n",
       "      <td>618.288849</td>\n",
       "      <td>SUV</td>\n",
       "      <td>Medsize</td>\n",
       "      <td>A</td>\n",
       "    </tr>\n",
       "  </tbody>\n",
       "</table>\n",
       "<p>3370 rows × 23 columns</p>\n",
       "</div>"
      ],
      "text/plain": [
       "      Customer       State  Customer Lifetime Value Response  Coverage  \\\n",
       "2      LZ68649  Washington             14947.917300       No     Basic   \n",
       "3      XL78013      Oregon             22332.439460      Yes  Extended   \n",
       "10     HG93801     Arizona              5154.764074       No  Extended   \n",
       "13     KR82385  California              5454.587929       No     Basic   \n",
       "16     FH51383  California              5326.677654       No     Basic   \n",
       "...        ...         ...                      ...      ...       ...   \n",
       "10897  MM70762     Arizona              9075.768214      Yes     Basic   \n",
       "10902  PP30874  California              3579.023825       No  Extended   \n",
       "10903  SU71163     Arizona              2771.663013       No     Basic   \n",
       "10906  KX53892      Oregon              5259.444853       No     Basic   \n",
       "10908  WA60547  California             11971.977650       No   Premium   \n",
       "\n",
       "                  Education Effective To Date EmploymentStatus Gender  \\\n",
       "2                  Bachelor           2/10/11         Employed      M   \n",
       "3                   College           1/11/11         Employed      M   \n",
       "10     High School or Below            1/2/11         Employed      M   \n",
       "13                   Master           1/26/11         Employed      M   \n",
       "16     High School or Below            2/7/11         Employed      F   \n",
       "...                     ...               ...              ...    ...   \n",
       "10897                Master           1/26/11         Employed      M   \n",
       "10902  High School or Below           1/24/11         Employed      F   \n",
       "10903               College            1/7/11         Employed      M   \n",
       "10906               College            1/6/11         Employed      F   \n",
       "10908               College           2/13/11         Employed      F   \n",
       "\n",
       "        Income  ... Months Since Last Claim Months Since Policy Inception  \\\n",
       "2      22139.0  ...                    34.0                            31   \n",
       "3      49078.0  ...                    10.0                             3   \n",
       "10     82730.0  ...                    13.0                            31   \n",
       "13     66334.0  ...                    25.0                            25   \n",
       "16     76717.0  ...                    26.0                            10   \n",
       "...        ...  ...                     ...                           ...   \n",
       "10897  37722.0  ...                     8.0                            23   \n",
       "10902  28304.0  ...                    10.0                            30   \n",
       "10903  59855.0  ...                    30.0                            82   \n",
       "10906  61146.0  ...                     7.0                            68   \n",
       "10908  64195.0  ...                     0.0                            27   \n",
       "\n",
       "          Policy Type        Policy  Renew Offer Type Sales Channel  \\\n",
       "2       Personal Auto   Personal L3            Offer3   Call Center   \n",
       "3      Corporate Auto  Corporate L3            Offer2        Branch   \n",
       "10     Corporate Auto  Corporate L3            Offer2        Branch   \n",
       "13      Personal Auto   Personal L3            Offer4   Call Center   \n",
       "16      Personal Auto   Personal L3            Offer4   Call Center   \n",
       "...               ...           ...               ...           ...   \n",
       "10897   Personal Auto   Personal L1            Offer1         Agent   \n",
       "10902   Personal Auto   Personal L2            Offer2         Agent   \n",
       "10903   Personal Auto   Personal L2            Offer2        Branch   \n",
       "10906   Personal Auto   Personal L3            Offer2        Branch   \n",
       "10908   Personal Auto   Personal L1            Offer1        Branch   \n",
       "\n",
       "      Total Claim Amount  Vehicle Class Vehicle Size  Vehicle Type  \n",
       "2             480.000000            SUV      Medsize             A  \n",
       "3             484.013411  Four-Door Car      Medsize             A  \n",
       "10            442.521087            SUV        Large             A  \n",
       "13            331.200000   Two-Door Car      Medsize             A  \n",
       "16            300.528579   Two-Door Car        Large             A  \n",
       "...                  ...            ...          ...           ...  \n",
       "10897         158.077504     Sports Car      Medsize             A  \n",
       "10902         655.200000  Four-Door Car      Medsize             A  \n",
       "10903         355.200000   Two-Door Car      Medsize             A  \n",
       "10906         273.018929  Four-Door Car      Medsize             A  \n",
       "10908         618.288849            SUV      Medsize             A  \n",
       "\n",
       "[3370 rows x 23 columns]"
      ]
     },
     "execution_count": 331,
     "metadata": {},
     "output_type": "execute_result"
    }
   ],
   "source": [
    "cs_df"
   ]
  },
  {
   "cell_type": "markdown",
   "id": "43521888",
   "metadata": {},
   "source": [
    "# Activity 7\n",
    "\n",
    "## Linear Regression\n",
    "\n",
    "- Train-test split.\n",
    "- Standardize the data (after the data split).\n",
    "- Apply linear regression.\n",
    "- Model Interpretation.\n",
    "- Model Validation\n",
    "\n",
    "## Model Evaluation:\n",
    "- MSE.\n",
    "- RMSE.\n",
    "- MAE.\n",
    "\n",
    "\n",
    "1. split x/y\n",
    "2. x: devide categorical/numerical\n",
    "- categorical: encode\n",
    "- x: concatination categorical/numerical\n",
    "- split data x_train/x_test\n",
    "- x_train: devide categorical_x_train/numerical_x_train\n",
    "- x_test: devide categorical_x_test/numerical_x_test\n",
    "- x_train/x_test numericals:\n",
    "- standardize x_train (x_train use fit --> then apply it for x_train and x_test)\n",
    "- quantiletransformer (x_train use fit --> then apply it for x_train and x_test) -->Income, CLV,...\n",
    "- x_train: concatination categorical_x_train:/numerical_x_train\n",
    "- x_test: concatination categorical_x_test/numerical_x_test\n",
    "\n",
    "\n",
    "## für heute:\n",
    "\n",
    "1. split x/y\n",
    "2. split data x_train/x_test\n",
    "- x_train/x_test numericals:\n",
    "- standardize x_train (x_train use fit --> then apply it for x_train and x_test)\n",
    "- quantiletransformer (x_train use fit --> then apply it for x_train and x_test) -->Income, CLV,...\n",
    "- modelling"
   ]
  },
  {
   "cell_type": "markdown",
   "id": "6dc0256b",
   "metadata": {},
   "source": [
    "## X/Y Split"
   ]
  },
  {
   "cell_type": "code",
   "execution_count": 332,
   "id": "e18081d3",
   "metadata": {},
   "outputs": [],
   "source": [
    "# X/Y Split target variable: 'Total Claim Amount'\n",
    "\n",
    "X=cs_df.drop('Total Claim Amount', axis=1)\n",
    "y=cs_df['Total Claim Amount']"
   ]
  },
  {
   "cell_type": "code",
   "execution_count": 333,
   "id": "620bbbf2",
   "metadata": {},
   "outputs": [],
   "source": [
    "X=X._get_numeric_data()\n"
   ]
  },
  {
   "cell_type": "code",
   "execution_count": 334,
   "id": "6e660da9",
   "metadata": {},
   "outputs": [],
   "source": [
    "#train/test split\n",
    "\n",
    "X_train, X_test, y_train, y_test=train_test_split(X, y, test_size=.30,random_state=123)"
   ]
  },
  {
   "cell_type": "code",
   "execution_count": 335,
   "id": "4c7633aa",
   "metadata": {},
   "outputs": [],
   "source": [
    "#standardize x_train\n",
    "\n",
    "std_scaler=StandardScaler().fit(X_train)   # finding the parameters ( mean, variance from the training set )\n",
    "\n",
    "X_train_scaled=std_scaler.transform(X_train)"
   ]
  },
  {
   "cell_type": "code",
   "execution_count": 336,
   "id": "ea45406f",
   "metadata": {},
   "outputs": [],
   "source": [
    "#standardize x_test\n",
    "\n",
    "X_test_scaled=std_scaler.transform(X_test)"
   ]
  },
  {
   "cell_type": "code",
   "execution_count": 337,
   "id": "3537abc2",
   "metadata": {},
   "outputs": [
    {
     "name": "stdout",
     "output_type": "stream",
     "text": [
      "[[-0.76577618 -0.4586684  -0.74210409 -0.30139306 -1.3770911 ]\n",
      " [ 1.82157789 -1.24219276  2.70558885  1.874389    0.231867  ]\n",
      " [-0.46018933  1.17730914 -0.94321951 -0.00469551 -1.59161885]\n",
      " ...\n",
      " [ 0.73683279 -1.26466955 -0.68464254  1.28099389 -1.34133647]\n",
      " [-0.4377742   0.81842967 -0.85702719  0.29200204  1.16148723]\n",
      " [-0.77469205  0.09617539 -0.77083487  0.78649797  1.44752422]]\n",
      "--------\n",
      "[[ 0.03305492 -1.01788269 -0.56971944 -1.19148572  0.55365861]\n",
      " [ 0.06172422  1.38750877 -0.56971944  0.68759878  1.66205197]\n",
      " [ 2.70072995 -0.69534071 -0.13875783  1.67659063  0.41064012]\n",
      " ...\n",
      " [-0.27632307 -1.3292279  -0.22495015  0.5886996   1.01846873]\n",
      " [-0.81866112 -1.01259648 -0.91448874 -1.38928409  1.59054272]\n",
      " [ 0.61725022 -0.40131096  0.32093456 -1.19148572  0.30337624]]\n"
     ]
    }
   ],
   "source": [
    "print(X_train_scaled)\n",
    "print(\"--------\")\n",
    "print(X_test_scaled)"
   ]
  },
  {
   "cell_type": "code",
   "execution_count": 338,
   "id": "2b0a9d26",
   "metadata": {},
   "outputs": [
    {
     "name": "stderr",
     "output_type": "stream",
     "text": [
      "/opt/anaconda3/envs/DA_ENV/lib/python3.9/site-packages/seaborn/distributions.py:2551: FutureWarning: `distplot` is a deprecated function and will be removed in a future version. Please adapt your code to use either `displot` (a figure-level function with similar flexibility) or `histplot` (an axes-level function for histograms).\n",
      "  warnings.warn(msg, FutureWarning)\n"
     ]
    },
    {
     "data": {
      "text/plain": [
       "<AxesSubplot:ylabel='Density'>"
      ]
     },
     "execution_count": 338,
     "metadata": {},
     "output_type": "execute_result"
    },
    {
     "data": {
      "image/png": "[encoded data removed]",
      "text/plain": [
       "<Figure size 432x288 with 1 Axes>"
      ]
     },
     "metadata": {
      "needs_background": "light"
     },
     "output_type": "display_data"
    }
   ],
   "source": [
    "#Quantile Transformer \"X_train_scaled\"\n",
    "\n",
    "qt = QuantileTransformer(output_distribution=\"normal\").fit(X_train_scaled)\n",
    "X_train_transformed=qt.transform(X_train_scaled)\n",
    "sns.distplot(X_train_scaled)"
   ]
  },
  {
   "cell_type": "markdown",
   "id": "5c97897a",
   "metadata": {},
   "source": [
    "# Apply Linear Regression"
   ]
  },
  {
   "cell_type": "code",
   "execution_count": 339,
   "id": "31de1f74",
   "metadata": {},
   "outputs": [
    {
     "data": {
      "text/plain": [
       "Index(['Customer Lifetime Value', 'Income', 'Monthly Premium Auto',\n",
       "       'Months Since Last Claim', 'Months Since Policy Inception'],\n",
       "      dtype='object')"
      ]
     },
     "execution_count": 339,
     "metadata": {},
     "output_type": "execute_result"
    }
   ],
   "source": [
    "X.columns"
   ]
  },
  {
   "cell_type": "markdown",
   "id": "9a68bd45",
   "metadata": {},
   "source": [
    "## Modeling using Statsmodels"
   ]
  },
  {
   "cell_type": "code",
   "execution_count": 340,
   "id": "cda031f9",
   "metadata": {},
   "outputs": [
    {
     "name": "stdout",
     "output_type": "stream",
     "text": [
      "                            OLS Regression Results                            \n",
      "==============================================================================\n",
      "Dep. Variable:     Total Claim Amount   R-squared:                       0.464\n",
      "Model:                            OLS   Adj. R-squared:                  0.463\n",
      "Method:                 Least Squares   F-statistic:                     406.8\n",
      "Date:                Tue, 01 Feb 2022   Prob (F-statistic):          4.71e-315\n",
      "Time:                        17:43:00   Log-Likelihood:                -15702.\n",
      "No. Observations:                2359   AIC:                         3.142e+04\n",
      "Df Residuals:                    2353   BIC:                         3.145e+04\n",
      "Df Model:                           5                                         \n",
      "Covariance Type:            nonrobust                                         \n",
      "==============================================================================\n",
      "                 coef    std err          t      P>|t|      [0.025      0.975]\n",
      "------------------------------------------------------------------------------\n",
      "const        378.1745      3.879     97.500      0.000     370.568     385.781\n",
      "x1            -6.5669      4.222     -1.555      0.120     -14.847       1.713\n",
      "x2           -55.3967      3.881    -14.272      0.000     -63.008     -47.785\n",
      "x3           167.0813      4.223     39.566      0.000     158.800     175.362\n",
      "x4            -6.1633      3.884     -1.587      0.113     -13.780       1.453\n",
      "x5            -5.5510      3.885     -1.429      0.153     -13.168       2.067\n",
      "==============================================================================\n",
      "Omnibus:                      319.745   Durbin-Watson:                   2.020\n",
      "Prob(Omnibus):                  0.000   Jarque-Bera (JB):             3054.492\n",
      "Skew:                           0.290   Prob(JB):                         0.00\n",
      "Kurtosis:                       8.544   Cond. No.                         1.52\n",
      "==============================================================================\n",
      "\n",
      "Notes:\n",
      "[1] Standard Errors assume that the covariance matrix of the errors is correctly specified.\n"
     ]
    }
   ],
   "source": [
    "X_train_const_scaled = sm.add_constant(X_train_scaled) # adding a constant\n",
    "\n",
    "model = sm.OLS(y_train, X_train_const_scaled).fit()\n",
    "predictions_train = model.predict(X_train_const_scaled) \n",
    "\n",
    "X_test_const_scaled = sm.add_constant(X_train_scaled) # adding a constant\n",
    "predictions_test = model.predict(X_test_const_scaled) \n",
    "print_model = model.summary()\n",
    "print(print_model)"
   ]
  },
  {
   "cell_type": "code",
   "execution_count": 341,
   "id": "062bfeb6",
   "metadata": {},
   "outputs": [
    {
     "data": {
      "text/plain": [
       "array([294.12205185, 874.23928775, 167.24714945, ..., 328.5537875 ,\n",
       "       184.27070188, 236.25929155])"
      ]
     },
     "execution_count": 341,
     "metadata": {},
     "output_type": "execute_result"
    }
   ],
   "source": [
    "predictions_test"
   ]
  },
  {
   "cell_type": "code",
   "execution_count": 342,
   "id": "b8eeed9e",
   "metadata": {},
   "outputs": [
    {
     "name": "stdout",
     "output_type": "stream",
     "text": [
      "0.46251627112279436\n"
     ]
    }
   ],
   "source": [
    "#display adjusted R-squared\n",
    "\n",
    "print(model.rsquared_adj)"
   ]
  },
  {
   "cell_type": "markdown",
   "id": "547eae95",
   "metadata": {},
   "source": [
    "## Modeling using Scikit Learn\n",
    "### Model fitting"
   ]
  },
  {
   "cell_type": "code",
   "execution_count": 343,
   "id": "7587f13d",
   "metadata": {},
   "outputs": [
    {
     "data": {
      "text/plain": [
       "LinearRegression()"
      ]
     },
     "execution_count": 343,
     "metadata": {},
     "output_type": "execute_result"
    }
   ],
   "source": [
    "model=LinearRegression()    # model\n",
    "model.fit(X_train_scaled, y_train)   # model train"
   ]
  },
  {
   "cell_type": "markdown",
   "id": "56d19b6a",
   "metadata": {},
   "source": [
    "### model parameters ( b1,b2,b3,b4)"
   ]
  },
  {
   "cell_type": "code",
   "execution_count": 344,
   "id": "67f6c989",
   "metadata": {},
   "outputs": [
    {
     "data": {
      "text/plain": [
       "array([ -6.56693413, -55.39666777, 167.08128395,  -6.16333696,\n",
       "        -5.55098563])"
      ]
     },
     "execution_count": 344,
     "metadata": {},
     "output_type": "execute_result"
    }
   ],
   "source": [
    "model.coef_"
   ]
  },
  {
   "cell_type": "code",
   "execution_count": 345,
   "id": "75a2272d",
   "metadata": {},
   "outputs": [
    {
     "data": {
      "text/plain": [
       "378.1744533047902"
      ]
     },
     "execution_count": 345,
     "metadata": {},
     "output_type": "execute_result"
    }
   ],
   "source": [
    "model.intercept_"
   ]
  },
  {
   "cell_type": "code",
   "execution_count": 346,
   "id": "838e28f1",
   "metadata": {},
   "outputs": [],
   "source": [
    "y_pred=model.predict(X_test_scaled)   "
   ]
  },
  {
   "cell_type": "code",
   "execution_count": 347,
   "id": "cad67f42",
   "metadata": {},
   "outputs": [
    {
     "data": {
      "text/plain": [
       "1985     523.888845\n",
       "6377     355.200000\n",
       "10676    395.729716\n",
       "8800     321.600000\n",
       "1841     394.968488\n",
       "            ...    \n",
       "768      355.200000\n",
       "9937     199.281404\n",
       "3390     412.800000\n",
       "6984     297.600000\n",
       "8086     504.000000\n",
       "Name: Total Claim Amount, Length: 1011, dtype: float64"
      ]
     },
     "execution_count": 347,
     "metadata": {},
     "output_type": "execute_result"
    }
   ],
   "source": [
    "y_test"
   ]
  },
  {
   "cell_type": "code",
   "execution_count": 348,
   "id": "5e5f6f5d",
   "metadata": {},
   "outputs": [
    {
     "data": {
      "text/plain": [
       "array([343.42541381, 192.25236606, 363.16180969, ..., 406.7570257 ,\n",
       "       286.58461158, 455.6339516 ])"
      ]
     },
     "execution_count": 348,
     "metadata": {},
     "output_type": "execute_result"
    }
   ],
   "source": [
    "y_pred"
   ]
  },
  {
   "cell_type": "code",
   "execution_count": 349,
   "id": "ab89af10",
   "metadata": {},
   "outputs": [],
   "source": [
    "result=pd.DataFrame({\"y_test\":y_test,\"y_pred\":y_pred})"
   ]
  },
  {
   "cell_type": "code",
   "execution_count": 350,
   "id": "4c0d1d91",
   "metadata": {},
   "outputs": [
    {
     "data": {
      "text/plain": [
       "[<matplotlib.lines.Line2D at 0x7fb3925614c0>]"
      ]
     },
     "execution_count": 350,
     "metadata": {},
     "output_type": "execute_result"
    },
    {
     "data": {
      "image/png": "[encoded data removed]",
      "text/plain": [
       "<Figure size 1008x288 with 3 Axes>"
      ]
     },
     "metadata": {
      "needs_background": "light"
     },
     "output_type": "display_data"
    }
   ],
   "source": [
    "# Make a scatter plot y_pred vs y_test\n",
    "# What kind of plot will you get if all the all the predictions are ok?\n",
    "# A straight line\n",
    "\n",
    "fig, ax = plt.subplots(1,3,figsize=(14,4))\n",
    "ax[0].plot(y_pred, y_test, 'o')\n",
    "ax[0].set_xlabel(\"y_test\")\n",
    "ax[0].set_ylabel(\"y_pred\")\n",
    "ax[0].set_title(\"Test Set - Predicted vs real\")\n",
    "\n",
    "# Get a histogram of the residuals i.e.: y_test - y_pred  [Homoscedasticity]\n",
    "# Does it resemble a normal distribution?\n",
    "\n",
    "ax[1].hist(y_test - y_pred)\n",
    "ax[1].set_xlabel(\"y_test - y_pred\")\n",
    "ax[1].set_title(\"Test Set Residual histogram\")\n",
    "\n",
    "ax[2].plot(y_pred,y_test - y_pred,\"o\")\n",
    "ax[2].set_xlabel(\"predicted\")\n",
    "ax[2].set_ylabel(\"residuals\")\n",
    "ax[2].set_title(\"Residuals by Predicted\")\n",
    "ax[2].plot(y_pred,np.zeros(len(y_pred)),linestyle='dashed')"
   ]
  },
  {
   "cell_type": "markdown",
   "id": "1d4ae787",
   "metadata": {},
   "source": [
    "### Error Metrics"
   ]
  },
  {
   "cell_type": "code",
   "execution_count": 351,
   "id": "a2fb8be8",
   "metadata": {},
   "outputs": [
    {
     "name": "stdout",
     "output_type": "stream",
     "text": [
      "38232.67526755342\n",
      "139.7490694890582\n"
     ]
    }
   ],
   "source": [
    "print(mse(y_test,y_pred))\n",
    "print(mae(y_test,y_pred))"
   ]
  },
  {
   "cell_type": "code",
   "execution_count": 352,
   "id": "4e96cca9",
   "metadata": {},
   "outputs": [
    {
     "data": {
      "text/plain": [
       "0.43848016806174717"
      ]
     },
     "execution_count": 352,
     "metadata": {},
     "output_type": "execute_result"
    }
   ],
   "source": [
    "R2=r2_score(y_test,y_pred)\n",
    "R2"
   ]
  },
  {
   "cell_type": "code",
   "execution_count": 353,
   "id": "7750df57",
   "metadata": {},
   "outputs": [
    {
     "data": {
      "text/plain": [
       "5"
      ]
     },
     "execution_count": 353,
     "metadata": {},
     "output_type": "execute_result"
    }
   ],
   "source": [
    "X_test.shape[1]"
   ]
  },
  {
   "cell_type": "code",
   "execution_count": 354,
   "id": "02b7a4b7",
   "metadata": {},
   "outputs": [
    {
     "data": {
      "text/plain": [
       "0.43568653705707927"
      ]
     },
     "execution_count": 354,
     "metadata": {},
     "output_type": "execute_result"
    }
   ],
   "source": [
    "Adj_R2= 1 - (1-R2)*(len(y_test)-1)/(len(y_test)-X_test.shape[1]-1)\n",
    "Adj_R2"
   ]
  },
  {
   "cell_type": "markdown",
   "id": "1588f762",
   "metadata": {},
   "source": [
    "### Feature Importance"
   ]
  },
  {
   "cell_type": "code",
   "execution_count": 355,
   "id": "f2787507",
   "metadata": {},
   "outputs": [],
   "source": [
    "features_importances = pd.DataFrame(data={\n",
    "    'Attribute': X_train.columns,\n",
    "    'Importance': abs(model.coef_)\n",
    "})\n",
    "features_importances = features_importances.sort_values(by='Importance', ascending=False)"
   ]
  },
  {
   "cell_type": "code",
   "execution_count": 356,
   "id": "51780746",
   "metadata": {},
   "outputs": [
    {
     "data": {
      "text/html": [
       "<div>\n",
       "<style scoped>\n",
       "    .dataframe tbody tr th:only-of-type {\n",
       "        vertical-align: middle;\n",
       "    }\n",
       "\n",
       "    .dataframe tbody tr th {\n",
       "        vertical-align: top;\n",
       "    }\n",
       "\n",
       "    .dataframe thead th {\n",
       "        text-align: right;\n",
       "    }\n",
       "</style>\n",
       "<table border=\"1\" class=\"dataframe\">\n",
       "  <thead>\n",
       "    <tr style=\"text-align: right;\">\n",
       "      <th></th>\n",
       "      <th>Attribute</th>\n",
       "      <th>Importance</th>\n",
       "    </tr>\n",
       "  </thead>\n",
       "  <tbody>\n",
       "    <tr>\n",
       "      <th>2</th>\n",
       "      <td>Monthly Premium Auto</td>\n",
       "      <td>167.081284</td>\n",
       "    </tr>\n",
       "    <tr>\n",
       "      <th>1</th>\n",
       "      <td>Income</td>\n",
       "      <td>55.396668</td>\n",
       "    </tr>\n",
       "    <tr>\n",
       "      <th>0</th>\n",
       "      <td>Customer Lifetime Value</td>\n",
       "      <td>6.566934</td>\n",
       "    </tr>\n",
       "    <tr>\n",
       "      <th>3</th>\n",
       "      <td>Months Since Last Claim</td>\n",
       "      <td>6.163337</td>\n",
       "    </tr>\n",
       "    <tr>\n",
       "      <th>4</th>\n",
       "      <td>Months Since Policy Inception</td>\n",
       "      <td>5.550986</td>\n",
       "    </tr>\n",
       "  </tbody>\n",
       "</table>\n",
       "</div>"
      ],
      "text/plain": [
       "                       Attribute  Importance\n",
       "2           Monthly Premium Auto  167.081284\n",
       "1                         Income   55.396668\n",
       "0        Customer Lifetime Value    6.566934\n",
       "3        Months Since Last Claim    6.163337\n",
       "4  Months Since Policy Inception    5.550986"
      ]
     },
     "execution_count": 356,
     "metadata": {},
     "output_type": "execute_result"
    }
   ],
   "source": [
    "features_importances"
   ]
  },
  {
   "cell_type": "code",
   "execution_count": 357,
   "id": "ce4f5a6c",
   "metadata": {},
   "outputs": [
    {
     "data": {
      "image/png": "[encoded data removed]",
      "text/plain": [
       "<Figure size 432x288 with 1 Axes>"
      ]
     },
     "metadata": {
      "needs_background": "light"
     },
     "output_type": "display_data"
    }
   ],
   "source": [
    "plt.bar(x=features_importances['Attribute'], height=features_importances['Importance'], color='#087E8B')\n",
    "plt.title('Feature importances obtained from coefficients', size=20)\n",
    "plt.xticks(rotation='vertical')\n",
    "plt.show()"
   ]
  },
  {
   "cell_type": "markdown",
   "id": "65fd4934",
   "metadata": {},
   "source": [
    "### Evaluating predictions"
   ]
  },
  {
   "cell_type": "code",
   "execution_count": 358,
   "id": "0a3afb27",
   "metadata": {},
   "outputs": [
    {
     "data": {
      "text/plain": [
       "139.74906948905823"
      ]
     },
     "execution_count": 358,
     "metadata": {},
     "output_type": "execute_result"
    }
   ],
   "source": [
    "# MAE: mean absolute error\n",
    "MAE = np.mean( np.abs( y_test - y_pred ) )\n",
    "MAE"
   ]
  },
  {
   "cell_type": "code",
   "execution_count": 359,
   "id": "fcbe5602",
   "metadata": {},
   "outputs": [
    {
     "data": {
      "text/plain": [
       "38232.67526755346"
      ]
     },
     "execution_count": 359,
     "metadata": {},
     "output_type": "execute_result"
    }
   ],
   "source": [
    "# MSE: mean squared error\n",
    "MSE = np.mean( np.power( y_test - y_pred , 2 ) )\n",
    "MSE"
   ]
  },
  {
   "cell_type": "code",
   "execution_count": 360,
   "id": "c16c8dfe",
   "metadata": {},
   "outputs": [
    {
     "data": {
      "text/plain": [
       "195.53177559556264"
      ]
     },
     "execution_count": 360,
     "metadata": {},
     "output_type": "execute_result"
    }
   ],
   "source": [
    "# RMSE: root mean squared error\n",
    "RMSE = np.sqrt(MSE)\n",
    "RMSE"
   ]
  },
  {
   "cell_type": "code",
   "execution_count": null,
   "id": "3600e1ae",
   "metadata": {},
   "outputs": [],
   "source": []
  }
 ],
 "metadata": {
  "kernelspec": {
   "display_name": "Python 3 (ipykernel)",
   "language": "python",
   "name": "python3"
  },
  "language_info": {
   "codemirror_mode": {
    "name": "ipython",
    "version": 3
   },
   "file_extension": ".py",
   "mimetype": "text/x-python",
   "name": "python",
   "nbconvert_exporter": "python",
   "pygments_lexer": "ipython3",
   "version": "3.9.7"
  },
  "toc": {
   "base_numbering": 1,
   "nav_menu": {},
   "number_sections": true,
   "sideBar": true,
   "skip_h1_title": false,
   "title_cell": "Table of Contents",
   "title_sidebar": "Contents",
   "toc_cell": false,
   "toc_position": {},
   "toc_section_display": true,
   "toc_window_display": false
  }
 },
 "nbformat": 4,
 "nbformat_minor": 5
}
