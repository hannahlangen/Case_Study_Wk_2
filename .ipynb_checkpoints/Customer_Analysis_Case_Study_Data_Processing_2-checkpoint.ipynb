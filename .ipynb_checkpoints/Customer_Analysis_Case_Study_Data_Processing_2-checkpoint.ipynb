{
 "cells": [
  {
   "cell_type": "code",
   "execution_count": 226,
   "id": "906a71a7",
   "metadata": {},
   "outputs": [],
   "source": [
    "import numpy as np\n",
    "import pandas as pd\n",
    "import matplotlib.pyplot as plt\n",
    "%matplotlib inline\n",
    "import seaborn as sns\n",
    "from sklearn.preprocessing import StandardScaler\n",
    "from sklearn.preprocessing import QuantileTransformer\n",
    "from sklearn.preprocessing import minmax_scale\n",
    "from sklearn.preprocessing import OneHotEncoder  ## better to use dummy from pandas \n",
    "from sklearn.preprocessing import PowerTransformer\n",
    "from scipy.stats import boxcox\n",
    "from sklearn.linear_model import LinearRegression\n",
    "from sklearn.model_selection import train_test_split\n",
    "import statsmodels.api as sm\n",
    "from scipy.stats import boxcox\n",
    "from sklearn.model_selection import train_test_split\n",
    "from sklearn.metrics import r2_score\n",
    "from sklearn.metrics import mean_squared_error as mse\n",
    "from sklearn.metrics import mean_absolute_error as mae\n",
    "pd.options.display.max_rows = 50"
   ]
  },
  {
   "cell_type": "code",
   "execution_count": 227,
   "id": "b6340b00",
   "metadata": {},
   "outputs": [],
   "source": [
    "#load dataframe and remove \"Unnamed\" column\n",
    "\n",
    "cs_df = pd.read_csv('Data copy/Data_Marketing_Customer_Analysis_Round2.csv')\n",
    "cs_df.drop(cs_df.filter(regex=\"Unname\"),axis=1, inplace=True)"
   ]
  },
  {
   "cell_type": "code",
   "execution_count": 228,
   "id": "04665e28",
   "metadata": {},
   "outputs": [],
   "source": [
    "# replace missing values for \"Income\" column with 0\n",
    "\n",
    "cs_df[\"Income\"].replace(0, np.nan, inplace=True)"
   ]
  },
  {
   "cell_type": "code",
   "execution_count": 229,
   "id": "ceabc13a",
   "metadata": {},
   "outputs": [],
   "source": [
    "# drop missing values from entire dataframe\n",
    "\n",
    "cs_df.dropna(inplace = True)"
   ]
  },
  {
   "cell_type": "code",
   "execution_count": 230,
   "id": "74f654e0",
   "metadata": {},
   "outputs": [
    {
     "data": {
      "text/html": [
       "<div>\n",
       "<style scoped>\n",
       "    .dataframe tbody tr th:only-of-type {\n",
       "        vertical-align: middle;\n",
       "    }\n",
       "\n",
       "    .dataframe tbody tr th {\n",
       "        vertical-align: top;\n",
       "    }\n",
       "\n",
       "    .dataframe thead th {\n",
       "        text-align: right;\n",
       "    }\n",
       "</style>\n",
       "<table border=\"1\" class=\"dataframe\">\n",
       "  <thead>\n",
       "    <tr style=\"text-align: right;\">\n",
       "      <th></th>\n",
       "      <th>Customer</th>\n",
       "      <th>State</th>\n",
       "      <th>Customer Lifetime Value</th>\n",
       "      <th>Response</th>\n",
       "      <th>Coverage</th>\n",
       "      <th>Education</th>\n",
       "      <th>Effective To Date</th>\n",
       "      <th>EmploymentStatus</th>\n",
       "      <th>Gender</th>\n",
       "      <th>Income</th>\n",
       "      <th>...</th>\n",
       "      <th>Number of Open Complaints</th>\n",
       "      <th>Number of Policies</th>\n",
       "      <th>Policy Type</th>\n",
       "      <th>Policy</th>\n",
       "      <th>Renew Offer Type</th>\n",
       "      <th>Sales Channel</th>\n",
       "      <th>Total Claim Amount</th>\n",
       "      <th>Vehicle Class</th>\n",
       "      <th>Vehicle Size</th>\n",
       "      <th>Vehicle Type</th>\n",
       "    </tr>\n",
       "  </thead>\n",
       "  <tbody>\n",
       "    <tr>\n",
       "      <th>2</th>\n",
       "      <td>LZ68649</td>\n",
       "      <td>Washington</td>\n",
       "      <td>14947.917300</td>\n",
       "      <td>No</td>\n",
       "      <td>Basic</td>\n",
       "      <td>Bachelor</td>\n",
       "      <td>2/10/11</td>\n",
       "      <td>Employed</td>\n",
       "      <td>M</td>\n",
       "      <td>22139.0</td>\n",
       "      <td>...</td>\n",
       "      <td>0.0</td>\n",
       "      <td>2</td>\n",
       "      <td>Personal Auto</td>\n",
       "      <td>Personal L3</td>\n",
       "      <td>Offer3</td>\n",
       "      <td>Call Center</td>\n",
       "      <td>480.000000</td>\n",
       "      <td>SUV</td>\n",
       "      <td>Medsize</td>\n",
       "      <td>A</td>\n",
       "    </tr>\n",
       "    <tr>\n",
       "      <th>3</th>\n",
       "      <td>XL78013</td>\n",
       "      <td>Oregon</td>\n",
       "      <td>22332.439460</td>\n",
       "      <td>Yes</td>\n",
       "      <td>Extended</td>\n",
       "      <td>College</td>\n",
       "      <td>1/11/11</td>\n",
       "      <td>Employed</td>\n",
       "      <td>M</td>\n",
       "      <td>49078.0</td>\n",
       "      <td>...</td>\n",
       "      <td>0.0</td>\n",
       "      <td>2</td>\n",
       "      <td>Corporate Auto</td>\n",
       "      <td>Corporate L3</td>\n",
       "      <td>Offer2</td>\n",
       "      <td>Branch</td>\n",
       "      <td>484.013411</td>\n",
       "      <td>Four-Door Car</td>\n",
       "      <td>Medsize</td>\n",
       "      <td>A</td>\n",
       "    </tr>\n",
       "    <tr>\n",
       "      <th>10</th>\n",
       "      <td>HG93801</td>\n",
       "      <td>Arizona</td>\n",
       "      <td>5154.764074</td>\n",
       "      <td>No</td>\n",
       "      <td>Extended</td>\n",
       "      <td>High School or Below</td>\n",
       "      <td>1/2/11</td>\n",
       "      <td>Employed</td>\n",
       "      <td>M</td>\n",
       "      <td>82730.0</td>\n",
       "      <td>...</td>\n",
       "      <td>0.0</td>\n",
       "      <td>1</td>\n",
       "      <td>Corporate Auto</td>\n",
       "      <td>Corporate L3</td>\n",
       "      <td>Offer2</td>\n",
       "      <td>Branch</td>\n",
       "      <td>442.521087</td>\n",
       "      <td>SUV</td>\n",
       "      <td>Large</td>\n",
       "      <td>A</td>\n",
       "    </tr>\n",
       "    <tr>\n",
       "      <th>13</th>\n",
       "      <td>KR82385</td>\n",
       "      <td>California</td>\n",
       "      <td>5454.587929</td>\n",
       "      <td>No</td>\n",
       "      <td>Basic</td>\n",
       "      <td>Master</td>\n",
       "      <td>1/26/11</td>\n",
       "      <td>Employed</td>\n",
       "      <td>M</td>\n",
       "      <td>66334.0</td>\n",
       "      <td>...</td>\n",
       "      <td>0.0</td>\n",
       "      <td>4</td>\n",
       "      <td>Personal Auto</td>\n",
       "      <td>Personal L3</td>\n",
       "      <td>Offer4</td>\n",
       "      <td>Call Center</td>\n",
       "      <td>331.200000</td>\n",
       "      <td>Two-Door Car</td>\n",
       "      <td>Medsize</td>\n",
       "      <td>A</td>\n",
       "    </tr>\n",
       "    <tr>\n",
       "      <th>16</th>\n",
       "      <td>FH51383</td>\n",
       "      <td>California</td>\n",
       "      <td>5326.677654</td>\n",
       "      <td>No</td>\n",
       "      <td>Basic</td>\n",
       "      <td>High School or Below</td>\n",
       "      <td>2/7/11</td>\n",
       "      <td>Employed</td>\n",
       "      <td>F</td>\n",
       "      <td>76717.0</td>\n",
       "      <td>...</td>\n",
       "      <td>0.0</td>\n",
       "      <td>6</td>\n",
       "      <td>Personal Auto</td>\n",
       "      <td>Personal L3</td>\n",
       "      <td>Offer4</td>\n",
       "      <td>Call Center</td>\n",
       "      <td>300.528579</td>\n",
       "      <td>Two-Door Car</td>\n",
       "      <td>Large</td>\n",
       "      <td>A</td>\n",
       "    </tr>\n",
       "    <tr>\n",
       "      <th>...</th>\n",
       "      <td>...</td>\n",
       "      <td>...</td>\n",
       "      <td>...</td>\n",
       "      <td>...</td>\n",
       "      <td>...</td>\n",
       "      <td>...</td>\n",
       "      <td>...</td>\n",
       "      <td>...</td>\n",
       "      <td>...</td>\n",
       "      <td>...</td>\n",
       "      <td>...</td>\n",
       "      <td>...</td>\n",
       "      <td>...</td>\n",
       "      <td>...</td>\n",
       "      <td>...</td>\n",
       "      <td>...</td>\n",
       "      <td>...</td>\n",
       "      <td>...</td>\n",
       "      <td>...</td>\n",
       "      <td>...</td>\n",
       "      <td>...</td>\n",
       "    </tr>\n",
       "    <tr>\n",
       "      <th>10897</th>\n",
       "      <td>MM70762</td>\n",
       "      <td>Arizona</td>\n",
       "      <td>9075.768214</td>\n",
       "      <td>Yes</td>\n",
       "      <td>Basic</td>\n",
       "      <td>Master</td>\n",
       "      <td>1/26/11</td>\n",
       "      <td>Employed</td>\n",
       "      <td>M</td>\n",
       "      <td>37722.0</td>\n",
       "      <td>...</td>\n",
       "      <td>0.0</td>\n",
       "      <td>8</td>\n",
       "      <td>Personal Auto</td>\n",
       "      <td>Personal L1</td>\n",
       "      <td>Offer1</td>\n",
       "      <td>Agent</td>\n",
       "      <td>158.077504</td>\n",
       "      <td>Sports Car</td>\n",
       "      <td>Medsize</td>\n",
       "      <td>A</td>\n",
       "    </tr>\n",
       "    <tr>\n",
       "      <th>10902</th>\n",
       "      <td>PP30874</td>\n",
       "      <td>California</td>\n",
       "      <td>3579.023825</td>\n",
       "      <td>No</td>\n",
       "      <td>Extended</td>\n",
       "      <td>High School or Below</td>\n",
       "      <td>1/24/11</td>\n",
       "      <td>Employed</td>\n",
       "      <td>F</td>\n",
       "      <td>28304.0</td>\n",
       "      <td>...</td>\n",
       "      <td>2.0</td>\n",
       "      <td>1</td>\n",
       "      <td>Personal Auto</td>\n",
       "      <td>Personal L2</td>\n",
       "      <td>Offer2</td>\n",
       "      <td>Agent</td>\n",
       "      <td>655.200000</td>\n",
       "      <td>Four-Door Car</td>\n",
       "      <td>Medsize</td>\n",
       "      <td>A</td>\n",
       "    </tr>\n",
       "    <tr>\n",
       "      <th>10903</th>\n",
       "      <td>SU71163</td>\n",
       "      <td>Arizona</td>\n",
       "      <td>2771.663013</td>\n",
       "      <td>No</td>\n",
       "      <td>Basic</td>\n",
       "      <td>College</td>\n",
       "      <td>1/7/11</td>\n",
       "      <td>Employed</td>\n",
       "      <td>M</td>\n",
       "      <td>59855.0</td>\n",
       "      <td>...</td>\n",
       "      <td>4.0</td>\n",
       "      <td>1</td>\n",
       "      <td>Personal Auto</td>\n",
       "      <td>Personal L2</td>\n",
       "      <td>Offer2</td>\n",
       "      <td>Branch</td>\n",
       "      <td>355.200000</td>\n",
       "      <td>Two-Door Car</td>\n",
       "      <td>Medsize</td>\n",
       "      <td>A</td>\n",
       "    </tr>\n",
       "    <tr>\n",
       "      <th>10906</th>\n",
       "      <td>KX53892</td>\n",
       "      <td>Oregon</td>\n",
       "      <td>5259.444853</td>\n",
       "      <td>No</td>\n",
       "      <td>Basic</td>\n",
       "      <td>College</td>\n",
       "      <td>1/6/11</td>\n",
       "      <td>Employed</td>\n",
       "      <td>F</td>\n",
       "      <td>61146.0</td>\n",
       "      <td>...</td>\n",
       "      <td>0.0</td>\n",
       "      <td>6</td>\n",
       "      <td>Personal Auto</td>\n",
       "      <td>Personal L3</td>\n",
       "      <td>Offer2</td>\n",
       "      <td>Branch</td>\n",
       "      <td>273.018929</td>\n",
       "      <td>Four-Door Car</td>\n",
       "      <td>Medsize</td>\n",
       "      <td>A</td>\n",
       "    </tr>\n",
       "    <tr>\n",
       "      <th>10908</th>\n",
       "      <td>WA60547</td>\n",
       "      <td>California</td>\n",
       "      <td>11971.977650</td>\n",
       "      <td>No</td>\n",
       "      <td>Premium</td>\n",
       "      <td>College</td>\n",
       "      <td>2/13/11</td>\n",
       "      <td>Employed</td>\n",
       "      <td>F</td>\n",
       "      <td>64195.0</td>\n",
       "      <td>...</td>\n",
       "      <td>4.0</td>\n",
       "      <td>6</td>\n",
       "      <td>Personal Auto</td>\n",
       "      <td>Personal L1</td>\n",
       "      <td>Offer1</td>\n",
       "      <td>Branch</td>\n",
       "      <td>618.288849</td>\n",
       "      <td>SUV</td>\n",
       "      <td>Medsize</td>\n",
       "      <td>A</td>\n",
       "    </tr>\n",
       "  </tbody>\n",
       "</table>\n",
       "<p>3370 rows × 25 columns</p>\n",
       "</div>"
      ],
      "text/plain": [
       "      Customer       State  Customer Lifetime Value Response  Coverage  \\\n",
       "2      LZ68649  Washington             14947.917300       No     Basic   \n",
       "3      XL78013      Oregon             22332.439460      Yes  Extended   \n",
       "10     HG93801     Arizona              5154.764074       No  Extended   \n",
       "13     KR82385  California              5454.587929       No     Basic   \n",
       "16     FH51383  California              5326.677654       No     Basic   \n",
       "...        ...         ...                      ...      ...       ...   \n",
       "10897  MM70762     Arizona              9075.768214      Yes     Basic   \n",
       "10902  PP30874  California              3579.023825       No  Extended   \n",
       "10903  SU71163     Arizona              2771.663013       No     Basic   \n",
       "10906  KX53892      Oregon              5259.444853       No     Basic   \n",
       "10908  WA60547  California             11971.977650       No   Premium   \n",
       "\n",
       "                  Education Effective To Date EmploymentStatus Gender  \\\n",
       "2                  Bachelor           2/10/11         Employed      M   \n",
       "3                   College           1/11/11         Employed      M   \n",
       "10     High School or Below            1/2/11         Employed      M   \n",
       "13                   Master           1/26/11         Employed      M   \n",
       "16     High School or Below            2/7/11         Employed      F   \n",
       "...                     ...               ...              ...    ...   \n",
       "10897                Master           1/26/11         Employed      M   \n",
       "10902  High School or Below           1/24/11         Employed      F   \n",
       "10903               College            1/7/11         Employed      M   \n",
       "10906               College            1/6/11         Employed      F   \n",
       "10908               College           2/13/11         Employed      F   \n",
       "\n",
       "        Income  ... Number of Open Complaints Number of Policies  \\\n",
       "2      22139.0  ...                       0.0                  2   \n",
       "3      49078.0  ...                       0.0                  2   \n",
       "10     82730.0  ...                       0.0                  1   \n",
       "13     66334.0  ...                       0.0                  4   \n",
       "16     76717.0  ...                       0.0                  6   \n",
       "...        ...  ...                       ...                ...   \n",
       "10897  37722.0  ...                       0.0                  8   \n",
       "10902  28304.0  ...                       2.0                  1   \n",
       "10903  59855.0  ...                       4.0                  1   \n",
       "10906  61146.0  ...                       0.0                  6   \n",
       "10908  64195.0  ...                       4.0                  6   \n",
       "\n",
       "          Policy Type        Policy  Renew Offer Type  Sales Channel  \\\n",
       "2       Personal Auto   Personal L3            Offer3    Call Center   \n",
       "3      Corporate Auto  Corporate L3            Offer2         Branch   \n",
       "10     Corporate Auto  Corporate L3            Offer2         Branch   \n",
       "13      Personal Auto   Personal L3            Offer4    Call Center   \n",
       "16      Personal Auto   Personal L3            Offer4    Call Center   \n",
       "...               ...           ...               ...            ...   \n",
       "10897   Personal Auto   Personal L1            Offer1          Agent   \n",
       "10902   Personal Auto   Personal L2            Offer2          Agent   \n",
       "10903   Personal Auto   Personal L2            Offer2         Branch   \n",
       "10906   Personal Auto   Personal L3            Offer2         Branch   \n",
       "10908   Personal Auto   Personal L1            Offer1         Branch   \n",
       "\n",
       "       Total Claim Amount  Vehicle Class Vehicle Size Vehicle Type  \n",
       "2              480.000000            SUV      Medsize            A  \n",
       "3              484.013411  Four-Door Car      Medsize            A  \n",
       "10             442.521087            SUV        Large            A  \n",
       "13             331.200000   Two-Door Car      Medsize            A  \n",
       "16             300.528579   Two-Door Car        Large            A  \n",
       "...                   ...            ...          ...          ...  \n",
       "10897          158.077504     Sports Car      Medsize            A  \n",
       "10902          655.200000  Four-Door Car      Medsize            A  \n",
       "10903          355.200000   Two-Door Car      Medsize            A  \n",
       "10906          273.018929  Four-Door Car      Medsize            A  \n",
       "10908          618.288849            SUV      Medsize            A  \n",
       "\n",
       "[3370 rows x 25 columns]"
      ]
     },
     "execution_count": 230,
     "metadata": {},
     "output_type": "execute_result"
    }
   ],
   "source": [
    "cs_df"
   ]
  },
  {
   "cell_type": "markdown",
   "id": "411e562e",
   "metadata": {},
   "source": [
    "# Activity 7\n",
    "\n",
    "## Linear Regression\n",
    "\n",
    "- Train-test split.\n",
    "- Standardize the data (after the data split).\n",
    "- Apply linear regression.\n",
    "- Model Interpretation.\n",
    "- Model Validation\n",
    "\n",
    "## Model Evaluation:\n",
    "- MSE.\n",
    "- RMSE.\n",
    "- MAE.\n",
    "\n",
    "\n",
    "1. split x/y\n",
    "2. x: devide categorical/numerical\n",
    "- categorical: encode\n",
    "- x: concatination categorical/numerical\n",
    "- split data x_train/x_test\n",
    "- x_train: devide categorical_x_train/numerical_x_train\n",
    "- x_test: devide categorical_x_test/numerical_x_test\n",
    "- x_train/x_test numericals:\n",
    "- standardize x_train (x_train use fit --> then apply it for x_train and x_test)\n",
    "- quantiletransformer (x_train use fit --> then apply it for x_train and x_test) -->Income, CLV,...\n",
    "- x_train: concatination categorical_x_train:/numerical_x_train\n",
    "- x_test: concatination categorical_x_test/numerical_x_test\n",
    "\n",
    "\n",
    "## für heute:\n",
    "\n",
    "1. split x/y\n",
    "2. split data x_train/x_test\n",
    "- x_train/x_test numericals:\n",
    "- standardize x_train (x_train use fit --> then apply it for x_train and x_test)\n",
    "- quantiletransformer (x_train use fit --> then apply it for x_train and x_test) -->Income, CLV,...\n",
    "- modelling"
   ]
  },
  {
   "cell_type": "markdown",
   "id": "90af388f",
   "metadata": {},
   "source": [
    "## X/Y Split"
   ]
  },
  {
   "cell_type": "code",
   "execution_count": 231,
   "id": "b05ae264",
   "metadata": {},
   "outputs": [],
   "source": [
    "# X/Y Split target variable: 'Total Claim Amount'\n",
    "\n",
    "X=cs_df.drop('Total Claim Amount', axis=1)\n",
    "y=cs_df['Total Claim Amount']"
   ]
  },
  {
   "cell_type": "code",
   "execution_count": 232,
   "id": "dde79eb9",
   "metadata": {},
   "outputs": [],
   "source": [
    "X=X._get_numeric_data()\n"
   ]
  },
  {
   "cell_type": "code",
   "execution_count": 233,
   "id": "96d93dbd",
   "metadata": {},
   "outputs": [],
   "source": [
    "#train/test split\n",
    "\n",
    "X_train, X_test, y_train, y_test=train_test_split(X, y, test_size=.30,random_state=123)"
   ]
  },
  {
   "cell_type": "code",
   "execution_count": 234,
   "id": "dfb551a0",
   "metadata": {},
   "outputs": [],
   "source": [
    "#standardize x_train\n",
    "\n",
    "std_scaler=StandardScaler().fit(X_train)   # finding the parameters ( mean, variance from the training set )\n",
    "\n",
    "X_train_scaled=std_scaler.transform(X_train)"
   ]
  },
  {
   "cell_type": "code",
   "execution_count": 235,
   "id": "ecfd4a11",
   "metadata": {},
   "outputs": [],
   "source": [
    "#standardize x_test\n",
    "\n",
    "X_test_scaled=std_scaler.transform(X_test)"
   ]
  },
  {
   "cell_type": "code",
   "execution_count": 236,
   "id": "9fcdcf41",
   "metadata": {},
   "outputs": [
    {
     "name": "stdout",
     "output_type": "stream",
     "text": [
      "[[-0.76577618 -0.4586684  -0.74210409 ... -1.3770911  -0.4350773\n",
      "  -0.80739599]\n",
      " [ 1.82157789 -1.24219276  2.70558885 ...  0.231867    2.95967688\n",
      "  -0.38703688]\n",
      " [-0.46018933  1.17730914 -0.94321951 ... -1.59161885 -0.4350773\n",
      "   0.03332224]\n",
      " ...\n",
      " [ 0.73683279 -1.26466955 -0.68464254 ... -1.34133647  1.82809216\n",
      "  -0.38703688]\n",
      " [-0.4377742   0.81842967 -0.85702719 ...  1.16148723 -0.4350773\n",
      "   1.7147587 ]\n",
      " [-0.77469205  0.09617539 -0.77083487 ...  1.44752422 -0.4350773\n",
      "  -0.80739599]]\n",
      "--------\n",
      "[[ 0.03305492 -1.01788269 -0.56971944 ...  0.55365861 -0.4350773\n",
      "  -0.38703688]\n",
      " [ 0.06172422  1.38750877 -0.56971944 ...  1.66205197  2.95967688\n",
      "  -0.38703688]\n",
      " [ 2.70072995 -0.69534071 -0.13875783 ...  0.41064012 -0.4350773\n",
      "  -0.38703688]\n",
      " ...\n",
      " [-0.27632307 -1.3292279  -0.22495015 ...  1.01846873 -0.4350773\n",
      "   1.29439958]\n",
      " [-0.81866112 -1.01259648 -0.91448874 ...  1.59054272 -0.4350773\n",
      "  -0.80739599]\n",
      " [ 0.61725022 -0.40131096  0.32093456 ...  0.30337624 -0.4350773\n",
      "  -0.38703688]]\n"
     ]
    }
   ],
   "source": [
    "print(X_train_scaled)\n",
    "print(\"--------\")\n",
    "print(X_test_scaled)"
   ]
  },
  {
   "cell_type": "code",
   "execution_count": 237,
   "id": "cf148d2e",
   "metadata": {},
   "outputs": [
    {
     "name": "stderr",
     "output_type": "stream",
     "text": [
      "/opt/anaconda3/envs/DA_ENV/lib/python3.9/site-packages/seaborn/distributions.py:2551: FutureWarning: `distplot` is a deprecated function and will be removed in a future version. Please adapt your code to use either `displot` (a figure-level function with similar flexibility) or `histplot` (an axes-level function for histograms).\n",
      "  warnings.warn(msg, FutureWarning)\n"
     ]
    },
    {
     "data": {
      "text/plain": [
       "<AxesSubplot:ylabel='Density'>"
      ]
     },
     "execution_count": 237,
     "metadata": {},
     "output_type": "execute_result"
    },
    {
     "data": {
      "image/png": "[encoded data removed]",
      "text/plain": [
       "<Figure size 432x288 with 1 Axes>"
      ]
     },
     "metadata": {
      "needs_background": "light"
     },
     "output_type": "display_data"
    }
   ],
   "source": [
    "#Quantile Transformer \"X_train_scaled\"\n",
    "\n",
    "qt = QuantileTransformer(output_distribution=\"normal\").fit(X_train_scaled)\n",
    "X_train_transformed=qt.transform(X_train_scaled)\n",
    "sns.distplot(X_train_scaled)"
   ]
  },
  {
   "cell_type": "markdown",
   "id": "e165d963",
   "metadata": {},
   "source": [
    "# Apply Linear Regression"
   ]
  },
  {
   "cell_type": "code",
   "execution_count": 238,
   "id": "6587415e",
   "metadata": {},
   "outputs": [
    {
     "data": {
      "text/plain": [
       "Index(['Customer Lifetime Value', 'Income', 'Monthly Premium Auto',\n",
       "       'Months Since Last Claim', 'Months Since Policy Inception',\n",
       "       'Number of Open Complaints', 'Number of Policies'],\n",
       "      dtype='object')"
      ]
     },
     "execution_count": 238,
     "metadata": {},
     "output_type": "execute_result"
    }
   ],
   "source": [
    "X.columns"
   ]
  },
  {
   "cell_type": "markdown",
   "id": "432ace63",
   "metadata": {},
   "source": [
    "## Modeling using Statsmodels"
   ]
  },
  {
   "cell_type": "code",
   "execution_count": 239,
   "id": "5dc23af2",
   "metadata": {},
   "outputs": [
    {
     "name": "stdout",
     "output_type": "stream",
     "text": [
      "                            OLS Regression Results                            \n",
      "==============================================================================\n",
      "Dep. Variable:     Total Claim Amount   R-squared:                       0.464\n",
      "Model:                            OLS   Adj. R-squared:                  0.462\n",
      "Method:                 Least Squares   F-statistic:                     290.8\n",
      "Date:                Tue, 01 Feb 2022   Prob (F-statistic):          7.72e-313\n",
      "Time:                        17:18:44   Log-Likelihood:                -15701.\n",
      "No. Observations:                2359   AIC:                         3.142e+04\n",
      "Df Residuals:                    2351   BIC:                         3.146e+04\n",
      "Df Model:                           7                                         \n",
      "Covariance Type:            nonrobust                                         \n",
      "==============================================================================\n",
      "                 coef    std err          t      P>|t|      [0.025      0.975]\n",
      "------------------------------------------------------------------------------\n",
      "const        378.1745      3.879     97.496      0.000     370.568     385.781\n",
      "x1            -6.7621      4.226     -1.600      0.110     -15.048       1.524\n",
      "x2           -55.3810      3.883    -14.261      0.000     -62.996     -47.766\n",
      "x3           167.3117      4.226     39.586      0.000     159.024     175.600\n",
      "x4            -6.2445      3.885     -1.607      0.108     -13.862       1.373\n",
      "x5            -5.4541      3.887     -1.403      0.161     -13.076       2.167\n",
      "x6             0.2346      3.883      0.060      0.952      -7.379       7.848\n",
      "x7             5.2398      3.884      1.349      0.177      -2.377      12.857\n",
      "==============================================================================\n",
      "Omnibus:                      319.256   Durbin-Watson:                   2.021\n",
      "Prob(Omnibus):                  0.000   Jarque-Bera (JB):             3061.617\n",
      "Skew:                           0.286   Prob(JB):                         0.00\n",
      "Kurtosis:                       8.552   Cond. No.                         1.53\n",
      "==============================================================================\n",
      "\n",
      "Notes:\n",
      "[1] Standard Errors assume that the covariance matrix of the errors is correctly specified.\n"
     ]
    }
   ],
   "source": [
    "X_train_const_scaled = sm.add_constant(X_train_scaled) # adding a constant\n",
    "\n",
    "model = sm.OLS(y_train, X_train_const_scaled).fit()\n",
    "predictions_train = model.predict(X_train_const_scaled) \n",
    "\n",
    "X_test_const_scaled = sm.add_constant(X_train_scaled) # adding a constant\n",
    "predictions_test = model.predict(X_test_const_scaled) \n",
    "print_model = model.summary()\n",
    "print(print_model)"
   ]
  },
  {
   "cell_type": "code",
   "execution_count": 240,
   "id": "e9ea9eb6",
   "metadata": {},
   "outputs": [
    {
     "data": {
      "text/plain": [
       "array([289.6517439 , 873.0242794 , 167.05684922, ..., 326.3993223 ,\n",
       "       193.14321911, 231.97817884])"
      ]
     },
     "execution_count": 240,
     "metadata": {},
     "output_type": "execute_result"
    }
   ],
   "source": [
    "predictions_test"
   ]
  },
  {
   "cell_type": "code",
   "execution_count": 241,
   "id": "4aa452a1",
   "metadata": {},
   "outputs": [
    {
     "name": "stdout",
     "output_type": "stream",
     "text": [
      "0.46247638831308024\n"
     ]
    }
   ],
   "source": [
    "#display adjusted R-squared\n",
    "\n",
    "print(model.rsquared_adj)"
   ]
  },
  {
   "cell_type": "markdown",
   "id": "d391fa79",
   "metadata": {},
   "source": [
    "## Modeling using Scikit Learn\n",
    "### Model fitting"
   ]
  },
  {
   "cell_type": "code",
   "execution_count": 242,
   "id": "244745c5",
   "metadata": {},
   "outputs": [
    {
     "data": {
      "text/plain": [
       "LinearRegression()"
      ]
     },
     "execution_count": 242,
     "metadata": {},
     "output_type": "execute_result"
    }
   ],
   "source": [
    "model=LinearRegression()    # model\n",
    "model.fit(X_train_scaled, y_train)   # model train"
   ]
  },
  {
   "cell_type": "markdown",
   "id": "1fdd73b5",
   "metadata": {},
   "source": [
    "### model parameters ( b1,b2,b3,b4)"
   ]
  },
  {
   "cell_type": "code",
   "execution_count": 243,
   "id": "b674573f",
   "metadata": {},
   "outputs": [
    {
     "data": {
      "text/plain": [
       "array([ -6.76209533, -55.38096384, 167.31167954,  -6.2445052 ,\n",
       "        -5.45410035,   0.23458631,   5.23975583])"
      ]
     },
     "execution_count": 243,
     "metadata": {},
     "output_type": "execute_result"
    }
   ],
   "source": [
    "model.coef_"
   ]
  },
  {
   "cell_type": "code",
   "execution_count": 244,
   "id": "60e0d579",
   "metadata": {},
   "outputs": [
    {
     "data": {
      "text/plain": [
       "378.1744533047902"
      ]
     },
     "execution_count": 244,
     "metadata": {},
     "output_type": "execute_result"
    }
   ],
   "source": [
    "model.intercept_"
   ]
  },
  {
   "cell_type": "code",
   "execution_count": 245,
   "id": "c3f6d2ef",
   "metadata": {},
   "outputs": [],
   "source": [
    "y_pred=model.predict(X_test_scaled)   "
   ]
  },
  {
   "cell_type": "code",
   "execution_count": 246,
   "id": "1e5427ce",
   "metadata": {},
   "outputs": [
    {
     "data": {
      "text/plain": [
       "1985     523.888845\n",
       "6377     355.200000\n",
       "10676    395.729716\n",
       "8800     321.600000\n",
       "1841     394.968488\n",
       "            ...    \n",
       "768      355.200000\n",
       "9937     199.281404\n",
       "3390     412.800000\n",
       "6984     297.600000\n",
       "8086     504.000000\n",
       "Name: Total Claim Amount, Length: 1011, dtype: float64"
      ]
     },
     "execution_count": 246,
     "metadata": {},
     "output_type": "execute_result"
    }
   ],
   "source": [
    "y_test"
   ]
  },
  {
   "cell_type": "code",
   "execution_count": 247,
   "id": "bd2a4f4a",
   "metadata": {},
   "outputs": [
    {
     "data": {
      "text/plain": [
       "array([341.29202742, 190.90238648, 360.36550037, ..., 413.4694171 ,\n",
       "       282.45203142, 453.57718963])"
      ]
     },
     "execution_count": 247,
     "metadata": {},
     "output_type": "execute_result"
    }
   ],
   "source": [
    "y_pred"
   ]
  },
  {
   "cell_type": "code",
   "execution_count": 248,
   "id": "5462ff5f",
   "metadata": {},
   "outputs": [],
   "source": [
    "result=pd.DataFrame({\"y_test\":y_test,\"y_pred\":y_pred})"
   ]
  },
  {
   "cell_type": "code",
   "execution_count": 269,
   "id": "15acf5bb",
   "metadata": {},
   "outputs": [
    {
     "data": {
      "text/plain": [
       "[<matplotlib.lines.Line2D at 0x7fb391e05eb0>]"
      ]
     },
     "execution_count": 269,
     "metadata": {},
     "output_type": "execute_result"
    },
    {
     "data": {
      "image/png": "[encoded data removed]",
      "text/plain": [
       "<Figure size 1008x288 with 3 Axes>"
      ]
     },
     "metadata": {
      "needs_background": "light"
     },
     "output_type": "display_data"
    }
   ],
   "source": [
    "# Make a scatter plot y_pred vs y_test\n",
    "# What kind of plot will you get if all the all the predictions are ok?\n",
    "# A straight line\n",
    "\n",
    "fig, ax = plt.subplots(1,3,figsize=(14,4))\n",
    "ax[0].plot(y_pred, y_test, 'o')\n",
    "ax[0].set_xlabel(\"y_test\")\n",
    "ax[0].set_ylabel(\"y_pred\")\n",
    "ax[0].set_title(\"Test Set - Predicted vs real\")\n",
    "\n",
    "# Get a histogram of the residuals i.e.: y_test - y_pred  [Homoscedasticity]\n",
    "# Does it resemble a normal distribution?\n",
    "ax[1].hist(y_test - y_pred)\n",
    "ax[1].set_xlabel(\"y_test - y_pred\")\n",
    "ax[1].set_title(\"Test Set Residual histogram\")\n",
    "\n",
    "ax[2].plot(y_pred,y_test - y_pred,\"o\")\n",
    "ax[2].set_xlabel(\"predicted\")\n",
    "ax[2].set_ylabel(\"residuals\")\n",
    "ax[2].set_title(\"Residuals by Predicted\")\n",
    "ax[2].plot(y_pred,np.zeros(len(y_pred)),linestyle='dashed')"
   ]
  },
  {
   "cell_type": "markdown",
   "id": "9a30a4e7",
   "metadata": {},
   "source": [
    "### Error Metrics"
   ]
  },
  {
   "cell_type": "code",
   "execution_count": 250,
   "id": "ef73a503",
   "metadata": {},
   "outputs": [
    {
     "name": "stdout",
     "output_type": "stream",
     "text": [
      "38251.74294674212\n",
      "139.72703202774892\n"
     ]
    }
   ],
   "source": [
    "print(mse(y_test,y_pred))\n",
    "print(mae(y_test,y_pred))"
   ]
  },
  {
   "cell_type": "code",
   "execution_count": 251,
   "id": "c271f04a",
   "metadata": {},
   "outputs": [
    {
     "data": {
      "text/plain": [
       "0.43820012278794507"
      ]
     },
     "execution_count": 251,
     "metadata": {},
     "output_type": "execute_result"
    }
   ],
   "source": [
    "R2=r2_score(y_test,y_pred)\n",
    "R2"
   ]
  },
  {
   "cell_type": "code",
   "execution_count": 252,
   "id": "af0f450a",
   "metadata": {},
   "outputs": [
    {
     "data": {
      "text/plain": [
       "7"
      ]
     },
     "execution_count": 252,
     "metadata": {},
     "output_type": "execute_result"
    }
   ],
   "source": [
    "X_test.shape[1]"
   ]
  },
  {
   "cell_type": "code",
   "execution_count": 253,
   "id": "8262a47a",
   "metadata": {},
   "outputs": [
    {
     "data": {
      "text/plain": [
       "0.43427928615735245"
      ]
     },
     "execution_count": 253,
     "metadata": {},
     "output_type": "execute_result"
    }
   ],
   "source": [
    "Adj_R2= 1 - (1-R2)*(len(y_test)-1)/(len(y_test)-X_test.shape[1]-1)\n",
    "Adj_R2"
   ]
  },
  {
   "cell_type": "markdown",
   "id": "d4d33cbc",
   "metadata": {},
   "source": [
    "### Feature Importance"
   ]
  },
  {
   "cell_type": "code",
   "execution_count": 254,
   "id": "90c3e866",
   "metadata": {},
   "outputs": [],
   "source": [
    "features_importances = pd.DataFrame(data={\n",
    "    'Attribute': X_train.columns,\n",
    "    'Importance': abs(model.coef_)\n",
    "})\n",
    "features_importances = features_importances.sort_values(by='Importance', ascending=False)"
   ]
  },
  {
   "cell_type": "code",
   "execution_count": 255,
   "id": "9e09b2d0",
   "metadata": {},
   "outputs": [
    {
     "data": {
      "text/html": [
       "<div>\n",
       "<style scoped>\n",
       "    .dataframe tbody tr th:only-of-type {\n",
       "        vertical-align: middle;\n",
       "    }\n",
       "\n",
       "    .dataframe tbody tr th {\n",
       "        vertical-align: top;\n",
       "    }\n",
       "\n",
       "    .dataframe thead th {\n",
       "        text-align: right;\n",
       "    }\n",
       "</style>\n",
       "<table border=\"1\" class=\"dataframe\">\n",
       "  <thead>\n",
       "    <tr style=\"text-align: right;\">\n",
       "      <th></th>\n",
       "      <th>Attribute</th>\n",
       "      <th>Importance</th>\n",
       "    </tr>\n",
       "  </thead>\n",
       "  <tbody>\n",
       "    <tr>\n",
       "      <th>2</th>\n",
       "      <td>Monthly Premium Auto</td>\n",
       "      <td>167.311680</td>\n",
       "    </tr>\n",
       "    <tr>\n",
       "      <th>1</th>\n",
       "      <td>Income</td>\n",
       "      <td>55.380964</td>\n",
       "    </tr>\n",
       "    <tr>\n",
       "      <th>0</th>\n",
       "      <td>Customer Lifetime Value</td>\n",
       "      <td>6.762095</td>\n",
       "    </tr>\n",
       "    <tr>\n",
       "      <th>3</th>\n",
       "      <td>Months Since Last Claim</td>\n",
       "      <td>6.244505</td>\n",
       "    </tr>\n",
       "    <tr>\n",
       "      <th>4</th>\n",
       "      <td>Months Since Policy Inception</td>\n",
       "      <td>5.454100</td>\n",
       "    </tr>\n",
       "    <tr>\n",
       "      <th>6</th>\n",
       "      <td>Number of Policies</td>\n",
       "      <td>5.239756</td>\n",
       "    </tr>\n",
       "    <tr>\n",
       "      <th>5</th>\n",
       "      <td>Number of Open Complaints</td>\n",
       "      <td>0.234586</td>\n",
       "    </tr>\n",
       "  </tbody>\n",
       "</table>\n",
       "</div>"
      ],
      "text/plain": [
       "                       Attribute  Importance\n",
       "2           Monthly Premium Auto  167.311680\n",
       "1                         Income   55.380964\n",
       "0        Customer Lifetime Value    6.762095\n",
       "3        Months Since Last Claim    6.244505\n",
       "4  Months Since Policy Inception    5.454100\n",
       "6             Number of Policies    5.239756\n",
       "5      Number of Open Complaints    0.234586"
      ]
     },
     "execution_count": 255,
     "metadata": {},
     "output_type": "execute_result"
    }
   ],
   "source": [
    "features_importances"
   ]
  },
  {
   "cell_type": "code",
   "execution_count": 256,
   "id": "3b0dfec2",
   "metadata": {},
   "outputs": [
    {
     "data": {
      "image/png": "[encoded data removed]",
      "text/plain": [
       "<Figure size 432x288 with 1 Axes>"
      ]
     },
     "metadata": {
      "needs_background": "light"
     },
     "output_type": "display_data"
    }
   ],
   "source": [
    "plt.bar(x=features_importances['Attribute'], height=features_importances['Importance'], color='#087E8B')\n",
    "plt.title('Feature importances obtained from coefficients', size=20)\n",
    "plt.xticks(rotation='vertical')\n",
    "plt.show()"
   ]
  },
  {
   "cell_type": "markdown",
   "id": "a0120573",
   "metadata": {},
   "source": [
    "### Evaluating predictions"
   ]
  },
  {
   "cell_type": "code",
   "execution_count": 257,
   "id": "deb971b3",
   "metadata": {},
   "outputs": [
    {
     "data": {
      "text/plain": [
       "139.72703202774906"
      ]
     },
     "execution_count": 257,
     "metadata": {},
     "output_type": "execute_result"
    }
   ],
   "source": [
    "# MAE: mean absolute error\n",
    "MAE = np.mean( np.abs( y_test - y_pred ) )\n",
    "MAE"
   ]
  },
  {
   "cell_type": "code",
   "execution_count": 258,
   "id": "66e7d87b",
   "metadata": {},
   "outputs": [
    {
     "data": {
      "text/plain": [
       "38251.74294674206"
      ]
     },
     "execution_count": 258,
     "metadata": {},
     "output_type": "execute_result"
    }
   ],
   "source": [
    "# MSE: mean squared error\n",
    "MSE = np.mean( np.power( y_test - y_pred , 2 ) )\n",
    "MSE"
   ]
  },
  {
   "cell_type": "code",
   "execution_count": 265,
   "id": "a4a44ac9",
   "metadata": {},
   "outputs": [
    {
     "data": {
      "text/plain": [
       "195.58052803574813"
      ]
     },
     "execution_count": 265,
     "metadata": {},
     "output_type": "execute_result"
    }
   ],
   "source": [
    "# RMSE: root mean squared error\n",
    "RMSE = np.sqrt(MSE)\n",
    "RMSE"
   ]
  },
  {
   "cell_type": "code",
   "execution_count": null,
   "id": "d9d2f129",
   "metadata": {},
   "outputs": [],
   "source": []
  }
 ],
 "metadata": {
  "kernelspec": {
   "display_name": "Python 3 (ipykernel)",
   "language": "python",
   "name": "python3"
  },
  "language_info": {
   "codemirror_mode": {
    "name": "ipython",
    "version": 3
   },
   "file_extension": ".py",
   "mimetype": "text/x-python",
   "name": "python",
   "nbconvert_exporter": "python",
   "pygments_lexer": "ipython3",
   "version": "3.9.7"
  },
  "toc": {
   "base_numbering": 1,
   "nav_menu": {},
   "number_sections": true,
   "sideBar": true,
   "skip_h1_title": false,
   "title_cell": "Table of Contents",
   "title_sidebar": "Contents",
   "toc_cell": false,
   "toc_position": {},
   "toc_section_display": true,
   "toc_window_display": false
  }
 },
 "nbformat": 4,
 "nbformat_minor": 5
}
